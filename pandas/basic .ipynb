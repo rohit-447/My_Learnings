{
 "cells": [
  {
   "cell_type": "code",
   "execution_count": null,
   "id": "cef8f545",
   "metadata": {},
   "outputs": [],
   "source": [
    "import pandas as pd"
   ]
  },
  {
   "cell_type": "code",
   "execution_count": null,
   "id": "1226cc13",
   "metadata": {},
   "outputs": [],
   "source": [
    "pip install pandas"
   ]
  },
  {
   "cell_type": "code",
   "execution_count": null,
   "id": "57c19719",
   "metadata": {},
   "outputs": [],
   "source": [
    "pip install openpyxl #to read the excel file"
   ]
  },
  {
   "cell_type": "markdown",
   "id": "5bbf3dd4",
   "metadata": {},
   "source": [
    "### Read the files\n",
    "1. csv file    : pd.read_csv(\"File Name\", encoding =\"latin1/utf-8\")\n",
    "2. excel file  : pd.read_excel(\"File Name\")\n",
    "3. json file   : pd.read_json(\"File Name\")\n",
    "4. from api    : "
   ]
  },
  {
   "cell_type": "code",
   "execution_count": null,
   "id": "bb00633e",
   "metadata": {},
   "outputs": [],
   "source": [
    "#Read csv file\n",
    "import pandas as pd\n",
    "\n",
    "read_csv= pd.read_csv(\"dataset/Titanic-Dataset.csv\", encoding='utf-8')\n",
    "#print(df_csv)\n",
    "\n",
    "read_json=pd.read_json('dataset/iris.json', encoding='utf-8')\n",
    "#print(read_json)\n",
    "\n",
    "\n",
    "#need openpyxl library to read the data\n",
    "read_excel=pd.read_excel(\"dataset/Cola.xlsx\")\n",
    "#print(read_excel)"
   ]
  }
 ],
 "metadata": {
  "kernelspec": {
   "display_name": ".venv",
   "language": "python",
   "name": "python3"
  },
  "language_info": {
   "codemirror_mode": {
    "name": "ipython",
    "version": 3
   },
   "file_extension": ".py",
   "mimetype": "text/x-python",
   "name": "python",
   "nbconvert_exporter": "python",
   "pygments_lexer": "ipython3",
   "version": "3.10.0"
  }
 },
 "nbformat": 4,
 "nbformat_minor": 5
}
