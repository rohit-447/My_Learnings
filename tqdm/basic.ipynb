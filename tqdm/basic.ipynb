{
 "cells": [
  {
   "cell_type": "markdown",
   "id": "f3d871af",
   "metadata": {},
   "source": [
    "Tqdm is lightweight Python library that displays smart progress bars for loops, iterables, and tasks.\n",
    "1. Installation \n",
    "    Termainal : pip install tdqm \n",
    "    Jupyter    : pip install tqdm notebook\n",
    "\n",
    "2. Usage : Wrap the loops, iterables, iterables, tasks inside tqdm\n",
    "    Eg: tqdm(range(1,10,1))"
   ]
  },
  {
   "cell_type": "code",
   "execution_count": null,
   "id": "e214e853",
   "metadata": {},
   "outputs": [
    {
     "name": "stdout",
     "output_type": "stream",
     "text": [
      "Requirement already satisfied: tqdm in d:\\code\\others\\my_learnings\\.venv\\lib\\site-packages (4.67.1)\n",
      "Requirement already satisfied: colorama in d:\\code\\others\\my_learnings\\.venv\\lib\\site-packages (from tqdm) (0.4.6)\n",
      "Note: you may need to restart the kernel to use updated packages.\n"
     ]
    },
    {
     "name": "stderr",
     "output_type": "stream",
     "text": [
      "WARNING: You are using pip version 21.2.3; however, version 25.2 is available.\n",
      "You should consider upgrading via the 'd:\\Code\\others\\my_learnings\\.venv\\Scripts\\python.exe -m pip install --upgrade pip' command.\n"
     ]
    }
   ],
   "source": [
    "!pip install ipywidgets #to load the widget modules\n",
    "!pip install tqdm"
   ]
  },
  {
   "cell_type": "code",
   "execution_count": 1,
   "id": "65a202df",
   "metadata": {},
   "outputs": [
    {
     "data": {
      "application/vnd.jupyter.widget-view+json": {
       "model_id": "88d49d3219804851a16309b6b16ed01d",
       "version_major": 2,
       "version_minor": 0
      },
      "text/plain": [
       "  0%|          | 0/99 [00:00<?, ?it/s]"
      ]
     },
     "metadata": {},
     "output_type": "display_data"
    }
   ],
   "source": [
    "from tqdm.notebook import tqdm\n",
    "import time\n",
    "for i in tqdm(range(1,100,1)):\n",
    "    time.sleep(0.1)"
   ]
  },
  {
   "cell_type": "code",
   "execution_count": 16,
   "id": "39d3df5e",
   "metadata": {},
   "outputs": [
    {
     "data": {
      "application/vnd.jupyter.widget-view+json": {
       "model_id": "6ef5d676f1134e929f6502e415ae6851",
       "version_major": 2,
       "version_minor": 0
      },
      "text/plain": [
       "Processing:   0%|                                                                                             …"
      ]
     },
     "metadata": {},
     "output_type": "display_data"
    }
   ],
   "source": [
    "from tqdm.notebook import tqdm\n",
    "for i in tqdm(range(0,10,1), desc=\"Processing\", ncols=1000, colour='blue'):\n",
    "    time.sleep(0.1)"
   ]
  },
  {
   "cell_type": "markdown",
   "id": "0c510023",
   "metadata": {},
   "source": [
    "Attributes\n",
    "1. desc: Description before the bar.\n",
    "2. ncols: Width of the bar.\n",
    "3. ascii: Use ASCII characters instead of Unicode.\n",
    "4. colour: Adds color to the bar (since tqdm v4.48)."
   ]
  },
  {
   "cell_type": "code",
   "execution_count": 20,
   "id": "6ab85b31",
   "metadata": {},
   "outputs": [
    {
     "name": "stderr",
     "output_type": "stream",
     "text": [
      " 20%|██        | 20/100 [00:02<00:08,  9.84it/s]\n"
     ]
    }
   ],
   "source": [
    "from tqdm import tqdm\n",
    "import time\n",
    "\n",
    "pbar = tqdm(total=100)\n",
    "for i in range(10):\n",
    "    time.sleep(0.2)\n",
    "    pbar.update(2)\n",
    "pbar.close()\n"
   ]
  }
 ],
 "metadata": {
  "kernelspec": {
   "display_name": ".venv",
   "language": "python",
   "name": "python3"
  },
  "language_info": {
   "codemirror_mode": {
    "name": "ipython",
    "version": 3
   },
   "file_extension": ".py",
   "mimetype": "text/x-python",
   "name": "python",
   "nbconvert_exporter": "python",
   "pygments_lexer": "ipython3",
   "version": "3.10.0"
  }
 },
 "nbformat": 4,
 "nbformat_minor": 5
}
