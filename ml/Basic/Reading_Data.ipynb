{
 "cells": [
  {
   "cell_type": "markdown",
   "id": "876dfb9c-0f46-4302-8850-d11d21af8da4",
   "metadata": {},
   "source": [
    "# Reading Files"
   ]
  },
  {
   "cell_type": "markdown",
   "id": "bb7ee68b-2148-49c1-8a11-44599357cc88",
   "metadata": {},
   "source": [
    "## Import of Libraries"
   ]
  },
  {
   "cell_type": "code",
   "execution_count": 1,
   "id": "fd6e8ca2-00d8-4b2b-81dd-d636e99c1448",
   "metadata": {},
   "outputs": [],
   "source": [
    "import pandas as pd\n",
    "import mysql.connector #TO read SQL data"
   ]
  },
  {
   "cell_type": "markdown",
   "id": "a927baad-a9d0-4399-b6f6-367c0df14ab2",
   "metadata": {},
   "source": [
    "## Reading CSV Files"
   ]
  },
  {
   "cell_type": "code",
   "execution_count": 13,
   "id": "a93cf374-37b4-4315-b110-e8147fcb901d",
   "metadata": {},
   "outputs": [
    {
     "data": {
      "text/html": [
       "<div>\n",
       "<style scoped>\n",
       "    .dataframe tbody tr th:only-of-type {\n",
       "        vertical-align: middle;\n",
       "    }\n",
       "\n",
       "    .dataframe tbody tr th {\n",
       "        vertical-align: top;\n",
       "    }\n",
       "\n",
       "    .dataframe thead th {\n",
       "        text-align: right;\n",
       "    }\n",
       "</style>\n",
       "<table border=\"1\" class=\"dataframe\">\n",
       "  <thead>\n",
       "    <tr style=\"text-align: right;\">\n",
       "      <th></th>\n",
       "      <th>Unnamed: 0</th>\n",
       "      <th>cgpa</th>\n",
       "      <th>iq</th>\n",
       "      <th>placement</th>\n",
       "    </tr>\n",
       "  </thead>\n",
       "  <tbody>\n",
       "    <tr>\n",
       "      <th>0</th>\n",
       "      <td>0</td>\n",
       "      <td>6.8</td>\n",
       "      <td>123.0</td>\n",
       "      <td>1</td>\n",
       "    </tr>\n",
       "    <tr>\n",
       "      <th>1</th>\n",
       "      <td>1</td>\n",
       "      <td>5.9</td>\n",
       "      <td>106.0</td>\n",
       "      <td>0</td>\n",
       "    </tr>\n",
       "    <tr>\n",
       "      <th>2</th>\n",
       "      <td>2</td>\n",
       "      <td>5.3</td>\n",
       "      <td>121.0</td>\n",
       "      <td>0</td>\n",
       "    </tr>\n",
       "    <tr>\n",
       "      <th>3</th>\n",
       "      <td>3</td>\n",
       "      <td>7.4</td>\n",
       "      <td>132.0</td>\n",
       "      <td>1</td>\n",
       "    </tr>\n",
       "    <tr>\n",
       "      <th>4</th>\n",
       "      <td>4</td>\n",
       "      <td>5.8</td>\n",
       "      <td>142.0</td>\n",
       "      <td>0</td>\n",
       "    </tr>\n",
       "  </tbody>\n",
       "</table>\n",
       "</div>"
      ],
      "text/plain": [
       "   Unnamed: 0  cgpa     iq  placement\n",
       "0           0   6.8  123.0          1\n",
       "1           1   5.9  106.0          0\n",
       "2           2   5.3  121.0          0\n",
       "3           3   7.4  132.0          1\n",
       "4           4   5.8  142.0          0"
      ]
     },
     "execution_count": 13,
     "metadata": {},
     "output_type": "execute_result"
    }
   ],
   "source": [
    "df_csv = pd.read_csv('../Dataset/placement.csv' , encoding='utf-8')\n",
    "df_csv.head(5)"
   ]
  },
  {
   "cell_type": "markdown",
   "id": "c1e709d9-7e4e-492d-b47b-08eef4cbd09a",
   "metadata": {},
   "source": [
    "## Read the data from a json file."
   ]
  },
  {
   "cell_type": "code",
   "execution_count": 3,
   "id": "655ad78e-e1ab-4499-8c1e-1f38f25c0ff1",
   "metadata": {},
   "outputs": [
    {
     "data": {
      "text/html": [
       "<div>\n",
       "<style scoped>\n",
       "    .dataframe tbody tr th:only-of-type {\n",
       "        vertical-align: middle;\n",
       "    }\n",
       "\n",
       "    .dataframe tbody tr th {\n",
       "        vertical-align: top;\n",
       "    }\n",
       "\n",
       "    .dataframe thead th {\n",
       "        text-align: right;\n",
       "    }\n",
       "</style>\n",
       "<table border=\"1\" class=\"dataframe\">\n",
       "  <thead>\n",
       "    <tr style=\"text-align: right;\">\n",
       "      <th></th>\n",
       "      <th>id</th>\n",
       "      <th>cuisine</th>\n",
       "      <th>ingredients</th>\n",
       "    </tr>\n",
       "  </thead>\n",
       "  <tbody>\n",
       "    <tr>\n",
       "      <th>0</th>\n",
       "      <td>10259</td>\n",
       "      <td>greek</td>\n",
       "      <td>[romaine lettuce, black olives, grape tomatoes...</td>\n",
       "    </tr>\n",
       "    <tr>\n",
       "      <th>1</th>\n",
       "      <td>25693</td>\n",
       "      <td>southern_us</td>\n",
       "      <td>[plain flour, ground pepper, salt, tomatoes, g...</td>\n",
       "    </tr>\n",
       "    <tr>\n",
       "      <th>2</th>\n",
       "      <td>20130</td>\n",
       "      <td>filipino</td>\n",
       "      <td>[eggs, pepper, salt, mayonaise, cooking oil, g...</td>\n",
       "    </tr>\n",
       "    <tr>\n",
       "      <th>3</th>\n",
       "      <td>22213</td>\n",
       "      <td>indian</td>\n",
       "      <td>[water, vegetable oil, wheat, salt]</td>\n",
       "    </tr>\n",
       "    <tr>\n",
       "      <th>4</th>\n",
       "      <td>13162</td>\n",
       "      <td>indian</td>\n",
       "      <td>[black pepper, shallots, cornflour, cayenne pe...</td>\n",
       "    </tr>\n",
       "  </tbody>\n",
       "</table>\n",
       "</div>"
      ],
      "text/plain": [
       "      id      cuisine                                        ingredients\n",
       "0  10259        greek  [romaine lettuce, black olives, grape tomatoes...\n",
       "1  25693  southern_us  [plain flour, ground pepper, salt, tomatoes, g...\n",
       "2  20130     filipino  [eggs, pepper, salt, mayonaise, cooking oil, g...\n",
       "3  22213       indian                [water, vegetable oil, wheat, salt]\n",
       "4  13162       indian  [black pepper, shallots, cornflour, cayenne pe..."
      ]
     },
     "execution_count": 3,
     "metadata": {},
     "output_type": "execute_result"
    }
   ],
   "source": [
    "df = pd.read_json(\"../Dataset/train.json\")\n",
    "df.head(5)"
   ]
  },
  {
   "cell_type": "markdown",
   "id": "38234a4a-30d1-445d-b443-6740c13df845",
   "metadata": {},
   "source": [
    "#### This data represents a collection of recipes from different cuisines, each identified by a unique id. The data includes the cuisine type and a list of ingredients associated with each recipe."
   ]
  },
  {
   "cell_type": "markdown",
   "id": "830c2796-7f68-4467-9feb-65a96a8d5ef8",
   "metadata": {},
   "source": [
    "## Read the data json data from api"
   ]
  },
  {
   "cell_type": "code",
   "execution_count": 7,
   "id": "e6ec8a93-3af7-49c5-8dac-63fd489b1968",
   "metadata": {},
   "outputs": [
    {
     "data": {
      "text/html": [
       "<div>\n",
       "<style scoped>\n",
       "    .dataframe tbody tr th:only-of-type {\n",
       "        vertical-align: middle;\n",
       "    }\n",
       "\n",
       "    .dataframe tbody tr th {\n",
       "        vertical-align: top;\n",
       "    }\n",
       "\n",
       "    .dataframe thead th {\n",
       "        text-align: right;\n",
       "    }\n",
       "</style>\n",
       "<table border=\"1\" class=\"dataframe\">\n",
       "  <thead>\n",
       "    <tr style=\"text-align: right;\">\n",
       "      <th></th>\n",
       "      <th>id</th>\n",
       "      <th>cuisine</th>\n",
       "      <th>ingredients</th>\n",
       "    </tr>\n",
       "  </thead>\n",
       "  <tbody>\n",
       "    <tr>\n",
       "      <th>0</th>\n",
       "      <td>10259</td>\n",
       "      <td>greek</td>\n",
       "      <td>[romaine lettuce, black olives, grape tomatoes...</td>\n",
       "    </tr>\n",
       "    <tr>\n",
       "      <th>1</th>\n",
       "      <td>25693</td>\n",
       "      <td>southern_us</td>\n",
       "      <td>[plain flour, ground pepper, salt, tomatoes, g...</td>\n",
       "    </tr>\n",
       "    <tr>\n",
       "      <th>2</th>\n",
       "      <td>20130</td>\n",
       "      <td>filipino</td>\n",
       "      <td>[eggs, pepper, salt, mayonaise, cooking oil, g...</td>\n",
       "    </tr>\n",
       "    <tr>\n",
       "      <th>3</th>\n",
       "      <td>22213</td>\n",
       "      <td>indian</td>\n",
       "      <td>[water, vegetable oil, wheat, salt]</td>\n",
       "    </tr>\n",
       "    <tr>\n",
       "      <th>4</th>\n",
       "      <td>13162</td>\n",
       "      <td>indian</td>\n",
       "      <td>[black pepper, shallots, cornflour, cayenne pe...</td>\n",
       "    </tr>\n",
       "  </tbody>\n",
       "</table>\n",
       "</div>"
      ],
      "text/plain": [
       "      id      cuisine                                        ingredients\n",
       "0  10259        greek  [romaine lettuce, black olives, grape tomatoes...\n",
       "1  25693  southern_us  [plain flour, ground pepper, salt, tomatoes, g...\n",
       "2  20130     filipino  [eggs, pepper, salt, mayonaise, cooking oil, g...\n",
       "3  22213       indian                [water, vegetable oil, wheat, salt]\n",
       "4  13162       indian  [black pepper, shallots, cornflour, cayenne pe..."
      ]
     },
     "execution_count": 7,
     "metadata": {},
     "output_type": "execute_result"
    }
   ],
   "source": [
    "df_json_api = pd.read_json('https://dummyjson.com/users')\n",
    "df.head(5)"
   ]
  },
  {
   "cell_type": "markdown",
   "id": "0b3da34b-d042-41ff-a08e-8c4943994f39",
   "metadata": {},
   "source": [
    "### This data represents a collection of recipes from different cuisines, each identified by a unique id. The data includes the cuisine type and a list of ingredients associated with each recipe."
   ]
  },
  {
   "cell_type": "markdown",
   "id": "f3f0d6f8-4a03-4d17-9f42-fdad95456d84",
   "metadata": {},
   "source": [
    "# Reading Data of SQL"
   ]
  },
  {
   "cell_type": "code",
   "execution_count": 9,
   "id": "5a693c8a-25bd-420c-89fa-0e40d823ca33",
   "metadata": {},
   "outputs": [
    {
     "name": "stdout",
     "output_type": "stream",
     "text": [
      "Note: you may need to restart the kernel to use updated packages.\n"
     ]
    },
    {
     "name": "stderr",
     "output_type": "stream",
     "text": [
      "ERROR: Invalid requirement: '#library': Expected package name at the start of dependency specifier\n",
      "    #library\n",
      "    ^\n"
     ]
    }
   ],
   "source": [
    "pip install mysql-connector-python #library required for working with sql"
   ]
  },
  {
   "cell_type": "markdown",
   "id": "5cd80759-4c1b-4aa9-8991-795e774880c7",
   "metadata": {},
   "source": [
    "#### To use the **World SQL dataset** from Kaggle in MySQL Workbench, first download the dataset from [this Kaggle link](https://www.kaggle.com/datasets/hashtagkehl/worldsql/code) and extract the files. Then, in MySQL Workbench, create a new database with `CREATE DATABASE world;` and use `USE world;`. Open the `.sql` file from the extracted folder in MySQL Workbench using **File > Open SQL Script**, then run the script to import the data. Finally, verify the tables with `SHOW TABLES;` and check the data with `SELECT * FROM city LIMIT 10;`.\n"
   ]
  },
  {
   "cell_type": "code",
   "execution_count": 8,
   "id": "63259fd6-35a6-4f96-903e-83b0e88f48ac",
   "metadata": {},
   "outputs": [],
   "source": [
    "# Using mysql-connector\n",
    "conn = mysql.connector.connect(\n",
    "    host=\"localhost\",  # or your MySQL server IP\n",
    "    user=\"root\",\n",
    "    password=\"admin\",\n",
    "    database=\"world\"\n",
    ")\n"
   ]
  },
  {
   "cell_type": "code",
   "execution_count": 9,
   "id": "ba9bc3aa-95dd-4fe5-8cd8-d30814f09905",
   "metadata": {},
   "outputs": [
    {
     "name": "stderr",
     "output_type": "stream",
     "text": [
      "C:\\Users\\Rohit\\AppData\\Local\\Temp\\ipykernel_2884\\2715036049.py:2: UserWarning: pandas only supports SQLAlchemy connectable (engine/connection) or database string URI or sqlite3 DBAPI2 connection. Other DBAPI2 objects are not tested. Please consider using SQLAlchemy.\n",
      "  df_sql= pd.read_sql(QUERY, conn)\n"
     ]
    },
    {
     "data": {
      "text/html": [
       "<div>\n",
       "<style scoped>\n",
       "    .dataframe tbody tr th:only-of-type {\n",
       "        vertical-align: middle;\n",
       "    }\n",
       "\n",
       "    .dataframe tbody tr th {\n",
       "        vertical-align: top;\n",
       "    }\n",
       "\n",
       "    .dataframe thead th {\n",
       "        text-align: right;\n",
       "    }\n",
       "</style>\n",
       "<table border=\"1\" class=\"dataframe\">\n",
       "  <thead>\n",
       "    <tr style=\"text-align: right;\">\n",
       "      <th></th>\n",
       "      <th>ID</th>\n",
       "      <th>Name</th>\n",
       "      <th>CountryCode</th>\n",
       "      <th>District</th>\n",
       "      <th>Population</th>\n",
       "    </tr>\n",
       "  </thead>\n",
       "  <tbody>\n",
       "    <tr>\n",
       "      <th>0</th>\n",
       "      <td>1</td>\n",
       "      <td>Kabul</td>\n",
       "      <td>AFG</td>\n",
       "      <td>Kabol</td>\n",
       "      <td>1780000</td>\n",
       "    </tr>\n",
       "    <tr>\n",
       "      <th>1</th>\n",
       "      <td>2</td>\n",
       "      <td>Qandahar</td>\n",
       "      <td>AFG</td>\n",
       "      <td>Qandahar</td>\n",
       "      <td>237500</td>\n",
       "    </tr>\n",
       "    <tr>\n",
       "      <th>2</th>\n",
       "      <td>3</td>\n",
       "      <td>Herat</td>\n",
       "      <td>AFG</td>\n",
       "      <td>Herat</td>\n",
       "      <td>186800</td>\n",
       "    </tr>\n",
       "    <tr>\n",
       "      <th>3</th>\n",
       "      <td>4</td>\n",
       "      <td>Mazar-e-Sharif</td>\n",
       "      <td>AFG</td>\n",
       "      <td>Balkh</td>\n",
       "      <td>127800</td>\n",
       "    </tr>\n",
       "    <tr>\n",
       "      <th>4</th>\n",
       "      <td>5</td>\n",
       "      <td>Amsterdam</td>\n",
       "      <td>NLD</td>\n",
       "      <td>Noord-Holland</td>\n",
       "      <td>731200</td>\n",
       "    </tr>\n",
       "  </tbody>\n",
       "</table>\n",
       "</div>"
      ],
      "text/plain": [
       "   ID            Name CountryCode       District  Population\n",
       "0   1           Kabul         AFG          Kabol     1780000\n",
       "1   2        Qandahar         AFG       Qandahar      237500\n",
       "2   3           Herat         AFG          Herat      186800\n",
       "3   4  Mazar-e-Sharif         AFG          Balkh      127800\n",
       "4   5       Amsterdam         NLD  Noord-Holland      731200"
      ]
     },
     "execution_count": 9,
     "metadata": {},
     "output_type": "execute_result"
    }
   ],
   "source": [
    "QUERY='SELECT * FROM city'       #Query use to filter out the data. \n",
    "df_sql= pd.read_sql(QUERY, conn) #this requires the Query and the Connection object to load the DataFrame.\n",
    "df_sql.head()"
   ]
  },
  {
   "cell_type": "markdown",
   "id": "fc5e9169-13f8-4939-a02b-bce15fcfd3da",
   "metadata": {
    "jp-MarkdownHeadingCollapsed": true
   },
   "source": [
    "### This dataset contains information about cities, including:\n",
    "\n",
    "* **ID**: A unique identifier for each city.\n",
    "* **Name**: The city's name (e.g., Kabul, Amsterdam).\n",
    "* **CountryCode**: The country code (e.g., `AFG` for Afghanistan, `NLD` for Netherlands).\n",
    "* **District**: The district or region the city is in (e.g., Kabol, Noord-Holland).\n",
    "* **Population**: The city's population (e.g., 1,780,000 for Kabul).\n",
    "\n",
    "It provides details about various cities, their locations, and population sizes.\n"
   ]
  },
  {
   "cell_type": "markdown",
   "id": "4cc51534-bff5-4d53-9c63-84621f7cd75f",
   "metadata": {},
   "source": [
    "# Loding the Dataset in chunks"
   ]
  },
  {
   "cell_type": "code",
   "execution_count": 22,
   "id": "67eef49a-7d1f-4da3-a8fa-4802ef0384ba",
   "metadata": {},
   "outputs": [
    {
     "name": "stdout",
     "output_type": "stream",
     "text": [
      "40000\n",
      "40000\n",
      "40000\n",
      "40000\n",
      "40000\n",
      "40000\n",
      "40000\n",
      "20000\n"
     ]
    }
   ],
   "source": [
    "CHUNK_SIZE = 10000                                                                                           #Chunk Size in which the data is divided.\n",
    "df_load_chunk_csv= pd.read_csv('../Dataset/amazon.csv', encoding='utf-8', chunksize=CHUNK_SIZE)\n",
    "for chunk in df_load_chunk_csv:                                                                              #Use to loop everywhere to work in chunks\n",
    "    print(chunk.size)                                                                                        #print the size of each chunk"
   ]
  },
  {
   "cell_type": "markdown",
   "id": "bb997b0a-fe8d-4f11-b788-a05a0a26a573",
   "metadata": {},
   "source": [
    "#### Amazon dataset is of products desciptions and price in csv "
   ]
  }
 ],
 "metadata": {
  "kernelspec": {
   "display_name": "my_learning_venv",
   "language": "python",
   "name": "my_learning_venv"
  },
  "language_info": {
   "codemirror_mode": {
    "name": "ipython",
    "version": 3
   },
   "file_extension": ".py",
   "mimetype": "text/x-python",
   "name": "python",
   "nbconvert_exporter": "python",
   "pygments_lexer": "ipython3",
   "version": "3.13.7"
  }
 },
 "nbformat": 4,
 "nbformat_minor": 5
}
