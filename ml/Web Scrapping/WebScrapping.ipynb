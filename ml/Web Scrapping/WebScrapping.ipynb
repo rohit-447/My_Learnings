{
 "cells": [
  {
   "cell_type": "markdown",
   "id": "2d19ca47-be50-42f1-82dc-583431224037",
   "metadata": {},
   "source": [
    "# Web Scrapping of Justdail Hosptial Data"
   ]
  },
  {
   "cell_type": "markdown",
   "id": "6df4ed4b-90ac-4bc4-8a25-a57f0ffc1454",
   "metadata": {},
   "source": [
    "# Web Scraping of Hospital Data from Justdial Using Python Requests and BeautifulSoup\n",
    "\n",
    "This notebook demonstrates the process of web scraping data from the Justdial website, specifically focusing on extracting hospital-related information. The scraping is achieved using **Python's Requests** library to send HTTP requests and **BeautifulSoup** to parse and extract relevant data from the HTML content of the webpage.\n",
    "\n",
    "This notebook walks through the steps to:\n",
    "1. Send HTTP requests to fetch the Justdial page containing hospital information.\n",
    "2. Use BeautifulSoup to parse the HTML and extract the data.\n",
    "3. Clean and store the extracted data for further use or analysis.\n",
    "\n",
    "This notebook provides a practical approach to web scraping, focusing on real-world applications like gathering information about hospitals, including contact details, locations, and services.\n"
   ]
  },
  {
   "cell_type": "markdown",
   "id": "fee4e89b-fd00-4b48-a2ea-bba187af71a0",
   "metadata": {},
   "source": [
    "### Libraries"
   ]
  },
  {
   "cell_type": "code",
   "execution_count": 1,
   "id": "01d40d3c-eb29-4f04-ab92-fc6ac4b8f428",
   "metadata": {},
   "outputs": [],
   "source": [
    "import pandas as pd\n",
    "import requests\n",
    "from bs4 import BeautifulSoup   #library used to simplify the web page html"
   ]
  },
  {
   "cell_type": "code",
   "execution_count": 2,
   "id": "c10f820f-b075-4d94-9392-09da92cf9d76",
   "metadata": {},
   "outputs": [
    {
     "name": "stdout",
     "output_type": "stream",
     "text": [
      "Requirement already satisfied: bs4 in c:\\users\\rohit\\anaconda3\\envs\\my_learning_venv\\lib\\site-packages (0.0.2)\n",
      "Requirement already satisfied: beautifulsoup4 in c:\\users\\rohit\\anaconda3\\envs\\my_learning_venv\\lib\\site-packages (from bs4) (4.13.5)\n",
      "Requirement already satisfied: soupsieve>1.2 in c:\\users\\rohit\\anaconda3\\envs\\my_learning_venv\\lib\\site-packages (from beautifulsoup4->bs4) (2.5)\n",
      "Requirement already satisfied: typing-extensions>=4.0.0 in c:\\users\\rohit\\anaconda3\\envs\\my_learning_venv\\lib\\site-packages (from beautifulsoup4->bs4) (4.15.0)\n"
     ]
    }
   ],
   "source": [
    "!pip install bs4"
   ]
  },
  {
   "cell_type": "markdown",
   "id": "7253a8b7-4866-4499-b92b-c0e38e05dfa1",
   "metadata": {},
   "source": [
    "bs4 is used to parse and extract relevant data from the HTML content of the webpage."
   ]
  },
  {
   "cell_type": "markdown",
   "id": "0a42abce-d963-48d1-b039-f8a64369bce5",
   "metadata": {},
   "source": [
    "### Sending an HTTP Request to Justdial for Hospital Data"
   ]
  },
  {
   "cell_type": "code",
   "execution_count": 3,
   "id": "15f109ee-b372-4e21-b9cc-e5e2ac1b6ddf",
   "metadata": {},
   "outputs": [],
   "source": [
    "URL = 'https://www.justdial.com/Patna/Hospitals/nct-10253670?trkid=173-remotecity&term=Hospitals'\n",
    "headers = {'User-Agent': 'Mozilla/5.0 (Windows NT 10.0; Win64; x64) AppleWebKit/537.36 (KHTML, like Gecko) Chrome/91.0.4472.124 Safari/537.36'}\n",
    "\n",
    "# Get the response\n",
    "response = requests.get(url=URL, headers=headers).text\n",
    "#print(response)\n"
   ]
  },
  {
   "cell_type": "code",
   "execution_count": 4,
   "id": "aea39d1e-109c-4ddc-9a60-bd28d90d3363",
   "metadata": {},
   "outputs": [],
   "source": [
    "soup=BeautifulSoup(response,'lxml')"
   ]
  },
  {
   "cell_type": "markdown",
   "id": "252aee0f-1b44-4e5e-88a5-414d7d034254",
   "metadata": {},
   "source": [
    "we use **BeautifulSoup** to parse the HTML response obtained from the Justdial page. The `lxml` parser is used to efficiently navigate and search through the HTML structure."
   ]
  },
  {
   "cell_type": "code",
   "execution_count": 5,
   "id": "845157f0-aab7-443c-9472-c43e7d60c221",
   "metadata": {},
   "outputs": [],
   "source": [
    "#print(soup.prettify())   # this print the structure way of webpage"
   ]
  },
  {
   "cell_type": "markdown",
   "id": "c1af1408-2a04-461c-b86f-50812f15de54",
   "metadata": {},
   "source": [
    "### Extracting Relevant Information: Hospital Name, Rating, Contact Info, Address, and Total Ratings\n",
    "\n",
    "In this step, we focus on extracting specific and relevant information about the hospitals listed on the Justdial webpage. Using **BeautifulSoup**, we will precisely extract the following details for each hospital:\n",
    "\n",
    "- **Hospital Name**: The name of the hospital.\n",
    "- **Rating**: The overall rating score of the hospital.\n",
    "- **Contact Information**: Phone numbers or any available contact details.\n",
    "- **Address**: The physical location of the hospital.\n",
    "- **Total Ratings**: The total number of ratings the hospital has received.\n",
    "\n",
    "This process enables us to collect structured data that can be used for analysis, visualization, or other applications, such as creating a directory or a recommendation system based on hospital ratings and reviews.\n"
   ]
  },
  {
   "cell_type": "code",
   "execution_count": 6,
   "id": "31b862c7-51c1-436c-a6b1-4df40c66f73a",
   "metadata": {},
   "outputs": [
    {
     "data": {
      "text/plain": [
       "'Heart Hospital Pvt Ltd'"
      ]
     },
     "execution_count": 6,
     "metadata": {},
     "output_type": "execute_result"
    }
   ],
   "source": [
    "soup.find_all('h3')[0].text  #Extact the name of hospital on the basis of tags"
   ]
  },
  {
   "cell_type": "code",
   "execution_count": 7,
   "id": "63271518-d8ea-471b-80d5-38e4f909edbd",
   "metadata": {},
   "outputs": [
    {
     "data": {
      "text/plain": [
       "'4.0'"
      ]
     },
     "execution_count": 7,
     "metadata": {},
     "output_type": "execute_result"
    }
   ],
   "source": [
    "soup.find_all(class_='resultbox_totalrate')[0].text   #Extract the Rating using unique class name"
   ]
  },
  {
   "cell_type": "code",
   "execution_count": 8,
   "id": "39fab4ee-5975-4a7c-b936-01607c242416",
   "metadata": {},
   "outputs": [
    {
     "data": {
      "text/plain": [
       "'Chandralay Kankarbagh, Patna'"
      ]
     },
     "execution_count": 8,
     "metadata": {},
     "output_type": "execute_result"
    }
   ],
   "source": [
    "soup.find_all(class_='locatcity')[0].text       #Extract the Address using unique class name"
   ]
  },
  {
   "cell_type": "code",
   "execution_count": 9,
   "id": "48d46df5-718a-4486-91d3-9e18d1cf0b83",
   "metadata": {},
   "outputs": [
    {
     "data": {
      "text/plain": [
       "'08511636498'"
      ]
     },
     "execution_count": 9,
     "metadata": {},
     "output_type": "execute_result"
    }
   ],
   "source": [
    "soup.find_all(class_='callcontent')[5].text    #Extract the name Contact using unique class name"
   ]
  },
  {
   "cell_type": "code",
   "execution_count": 10,
   "id": "1b017051-9ff1-430d-83ac-29a08a1883c1",
   "metadata": {},
   "outputs": [
    {
     "data": {
      "text/plain": [
       "'786 Ratings'"
      ]
     },
     "execution_count": 10,
     "metadata": {},
     "output_type": "execute_result"
    }
   ],
   "source": [
    "soup.find(class_='resultbox_countrate').text    ##Extract the Total Rating using unique class name"
   ]
  },
  {
   "cell_type": "code",
   "execution_count": 11,
   "id": "f5f35dff-8eac-40cc-860b-5db839032b19",
   "metadata": {},
   "outputs": [],
   "source": [
    "information_box= soup.find_all(class_='resultbox_info') #Extract the Div that contains all the information."
   ]
  },
  {
   "cell_type": "code",
   "execution_count": 12,
   "id": "aebaa8a2-73e6-42f4-8341-f4aaecc9e9dd",
   "metadata": {},
   "outputs": [
    {
     "data": {
      "text/plain": [
       "10"
      ]
     },
     "execution_count": 12,
     "metadata": {},
     "output_type": "execute_result"
    }
   ],
   "source": [
    "len(information_box)     #total no. of boxes"
   ]
  },
  {
   "cell_type": "markdown",
   "id": "8e0da980-c366-4630-8c32-fb61a8990c62",
   "metadata": {},
   "source": [
    "### Iterating Through the Data and Storing Information in Lists\n",
    "\n",
    "In this step, we iterate through the parsed HTML content to extract relevant hospital information such as name, rating, contact info, address, and total ratings. We loop through the elements on the webpage and append each piece of information to a list.\n",
    "\n",
    "The process involves:\n",
    "\n",
    "- Extracting the **hospital name** from the appropriate HTML tag.\n",
    "- Extracting the **rating** and **total ratings** for each hospital.\n",
    "- Retrieving the **address** (or locality) of the hospital.\n",
    "- Collecting the **contact information** (e.g., phone numbers).\n",
    "\n",
    "The extracted data is then stored in separate lists for each category, making it easier to work with and analyze.\n"
   ]
  },
  {
   "cell_type": "code",
   "execution_count": 13,
   "id": "69062523-ccb4-4bfd-9218-b2cc1ea8dfc4",
   "metadata": {},
   "outputs": [
    {
     "name": "stdout",
     "output_type": "stream",
     "text": [
      "['Heart Hospital Pvt Ltd', 'Jyotipunj Hospital', 'Dr. Prabhat Memorial Hiramati Hospital (AIIMS New Delhi Alumni Initiative)', 'Jay Prabha Medanta Super Specialty Hospital', 'Pancardia Hospital (Heart and Multi Super Speciality Hospital Pvt Ltd)', 'G.B HOSPITAL', 'Patna Womens Hospital', 'Shree Balaji Netralaya', 'Patna Vatsalya Child Hospital', 'Awantika Memorial Hospital']\n",
      "['4.0', '4.6', '4.2', '4.5', '4.2', '4.6', '4.0', '4.9', '4.9', '3.5']\n",
      "['786 Ratings', '786 Ratings', '786 Ratings', '786 Ratings', '786 Ratings', '786 Ratings', '786 Ratings', '786 Ratings', '786 Ratings', '786 Ratings']\n",
      "['Chandralay Kankarbagh, Patna', 'Jyotipunj Hospital Boring Road, Patna', 'Near Ravindra Balika Vidyalaya Rajendranagar, Patna', 'Pani Tanki Road Kankarbagh, Patna', 'Kankarbagh Main Road Kankarbagh, Patna', 'North Of Piller No -73 Sheikhpura, Patna', 'D.s.-12 Lohia Nagar Kankarbagh, Patna', 'Nala Road Saidpur, Patna', 'Kankarbagh Main Road Kankarbagh, Patna', '90 Feet Road Vijay Nagar, Patna']\n",
      "['07383519271', '07760601100', '08123776419', '07383033936', '08487858537', '08511636498', 'Show Number', 'Show Number', '08123280482', '08460243467']\n"
     ]
    }
   ],
   "source": [
    "name=[]\n",
    "address=[]\n",
    "contact_info=[]\n",
    "rating=[]\n",
    "total_ratings=[]\n",
    "for i in range(0, len(information_box)):\n",
    "    names=soup.find_all('h3')[i].text\n",
    "    ratings=soup.find_all(class_='resultbox_totalrate')[i].text\n",
    "    t_ratings=soup.find(class_='resultbox_countrate').text\n",
    "    locality=soup.find_all(class_='locatcity')[i].text\n",
    "    contact=soup.find_all(class_='callcontent')[i].text\n",
    "    \n",
    "    name.append(names)\n",
    "    rating.append(ratings)\n",
    "    total_ratings.append(t_ratings)\n",
    "    address.append(locality)\n",
    "    contact_info.append(contact)\n",
    "    \n",
    "print(name)\n",
    "print(rating)\n",
    "print(total_ratings)\n",
    "print(address)\n",
    "print(contact_info)\n",
    "    "
   ]
  },
  {
   "cell_type": "markdown",
   "id": "448094b3-fb99-49a4-a836-5cbae26f78db",
   "metadata": {},
   "source": [
    "### Converting the Lists into a Python Dictionary and Using it in a DataFrame\n",
    "\n",
    "After extracting the relevant information and storing it in lists, we now convert these lists into a **Python dictionary**. This dictionary will serve as the foundation for creating a **Pandas DataFrame**, a powerful data structure that allows for easier manipulation, analysis, and visualization of the data.\n",
    "\n",
    "In this step:\n",
    "1. We map the lists (containing hospital names, addresses, contact info, ratings, and total ratings) into a dictionary with appropriate keys.\n",
    "2. We use **Pandas** to create a DataFrame from the dictionary.\n",
    "3. Finally, we display the first five rows of the DataFrame using `.head(5)` to verify the structure and ensure the data is correctly organized.\n"
   ]
  },
  {
   "cell_type": "code",
   "execution_count": 14,
   "id": "e1536a53-f4b0-4294-a3d8-8b79928584ae",
   "metadata": {},
   "outputs": [
    {
     "data": {
      "text/html": [
       "<div>\n",
       "<style scoped>\n",
       "    .dataframe tbody tr th:only-of-type {\n",
       "        vertical-align: middle;\n",
       "    }\n",
       "\n",
       "    .dataframe tbody tr th {\n",
       "        vertical-align: top;\n",
       "    }\n",
       "\n",
       "    .dataframe thead th {\n",
       "        text-align: right;\n",
       "    }\n",
       "</style>\n",
       "<table border=\"1\" class=\"dataframe\">\n",
       "  <thead>\n",
       "    <tr style=\"text-align: right;\">\n",
       "      <th></th>\n",
       "      <th>hospital_name</th>\n",
       "      <th>Address</th>\n",
       "      <th>Contact</th>\n",
       "      <th>Rating</th>\n",
       "      <th>Total_Rating</th>\n",
       "    </tr>\n",
       "  </thead>\n",
       "  <tbody>\n",
       "    <tr>\n",
       "      <th>0</th>\n",
       "      <td>Heart Hospital Pvt Ltd</td>\n",
       "      <td>Chandralay Kankarbagh, Patna</td>\n",
       "      <td>07383519271</td>\n",
       "      <td>4.0</td>\n",
       "      <td>786 Ratings</td>\n",
       "    </tr>\n",
       "    <tr>\n",
       "      <th>1</th>\n",
       "      <td>Jyotipunj Hospital</td>\n",
       "      <td>Jyotipunj Hospital Boring Road, Patna</td>\n",
       "      <td>07760601100</td>\n",
       "      <td>4.6</td>\n",
       "      <td>786 Ratings</td>\n",
       "    </tr>\n",
       "    <tr>\n",
       "      <th>2</th>\n",
       "      <td>Dr. Prabhat Memorial Hiramati Hospital (AIIMS ...</td>\n",
       "      <td>Near Ravindra Balika Vidyalaya Rajendranagar, ...</td>\n",
       "      <td>08123776419</td>\n",
       "      <td>4.2</td>\n",
       "      <td>786 Ratings</td>\n",
       "    </tr>\n",
       "    <tr>\n",
       "      <th>3</th>\n",
       "      <td>Jay Prabha Medanta Super Specialty Hospital</td>\n",
       "      <td>Pani Tanki Road Kankarbagh, Patna</td>\n",
       "      <td>07383033936</td>\n",
       "      <td>4.5</td>\n",
       "      <td>786 Ratings</td>\n",
       "    </tr>\n",
       "    <tr>\n",
       "      <th>4</th>\n",
       "      <td>Pancardia Hospital (Heart and Multi Super Spec...</td>\n",
       "      <td>Kankarbagh Main Road Kankarbagh, Patna</td>\n",
       "      <td>08487858537</td>\n",
       "      <td>4.2</td>\n",
       "      <td>786 Ratings</td>\n",
       "    </tr>\n",
       "  </tbody>\n",
       "</table>\n",
       "</div>"
      ],
      "text/plain": [
       "                                       hospital_name  \\\n",
       "0                             Heart Hospital Pvt Ltd   \n",
       "1                                 Jyotipunj Hospital   \n",
       "2  Dr. Prabhat Memorial Hiramati Hospital (AIIMS ...   \n",
       "3        Jay Prabha Medanta Super Specialty Hospital   \n",
       "4  Pancardia Hospital (Heart and Multi Super Spec...   \n",
       "\n",
       "                                             Address      Contact Rating  \\\n",
       "0                       Chandralay Kankarbagh, Patna  07383519271    4.0   \n",
       "1              Jyotipunj Hospital Boring Road, Patna  07760601100    4.6   \n",
       "2  Near Ravindra Balika Vidyalaya Rajendranagar, ...  08123776419    4.2   \n",
       "3                  Pani Tanki Road Kankarbagh, Patna  07383033936    4.5   \n",
       "4             Kankarbagh Main Road Kankarbagh, Patna  08487858537    4.2   \n",
       "\n",
       "  Total_Rating  \n",
       "0  786 Ratings  \n",
       "1  786 Ratings  \n",
       "2  786 Ratings  \n",
       "3  786 Ratings  \n",
       "4  786 Ratings  "
      ]
     },
     "execution_count": 14,
     "metadata": {},
     "output_type": "execute_result"
    }
   ],
   "source": [
    "data={\n",
    "    'hospital_name':name,\n",
    "    'Address': address,\n",
    "    'Contact': contact_info,\n",
    "    'Rating': rating,\n",
    "    'Total_Rating':total_ratings,\n",
    "    \n",
    "}\n",
    "df=pd.DataFrame(data)\n",
    "df.head(5)"
   ]
  },
  {
   "cell_type": "code",
   "execution_count": null,
   "id": "a9330d5a-b68f-4e7c-b8d6-f8860b430ec5",
   "metadata": {},
   "outputs": [],
   "source": []
  }
 ],
 "metadata": {
  "kernelspec": {
   "display_name": "my_learning_venv",
   "language": "python",
   "name": "my_learning_venv"
  },
  "language_info": {
   "codemirror_mode": {
    "name": "ipython",
    "version": 3
   },
   "file_extension": ".py",
   "mimetype": "text/x-python",
   "name": "python",
   "nbconvert_exporter": "python",
   "pygments_lexer": "ipython3",
   "version": "3.13.7"
  }
 },
 "nbformat": 4,
 "nbformat_minor": 5
}
