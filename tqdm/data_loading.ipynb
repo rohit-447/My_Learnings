{
 "cells": [
  {
   "cell_type": "markdown",
   "id": "a54a288d",
   "metadata": {},
   "source": [
    "Using tqdm in loading the List Data "
   ]
  },
  {
   "cell_type": "code",
   "execution_count": 1,
   "id": "2caa7852",
   "metadata": {},
   "outputs": [
    {
     "name": "stderr",
     "output_type": "stream",
     "text": [
      "Loading Data: 100%|██████████| 10/10 [00:01<00:00,  9.13it/s]\n"
     ]
    }
   ],
   "source": [
    "from tqdm import tqdm\n",
    "import time\n",
    "\n",
    "Data=[1,2,3,4,5,6,7,8,9,10]\n",
    "for i in tqdm(Data, desc=\"Loading Data\"):\n",
    "    time.sleep(0.1)"
   ]
  },
  {
   "cell_type": "markdown",
   "id": "74af846c",
   "metadata": {},
   "source": [
    "Show progress while processing"
   ]
  },
  {
   "cell_type": "code",
   "execution_count": 22,
   "id": "c0a55794",
   "metadata": {},
   "outputs": [
    {
     "name": "stderr",
     "output_type": "stream",
     "text": [
      "100%|██████████| 7/7 [00:00<?, ?it/s]"
     ]
    },
    {
     "name": "stdout",
     "output_type": "stream",
     "text": [
      "[2, 4, 6, 8, 10, 12, 14]\n"
     ]
    },
    {
     "name": "stderr",
     "output_type": "stream",
     "text": [
      "\n"
     ]
    },
    {
     "data": {
      "application/vnd.jupyter.widget-view+json": {
       "model_id": "3e7366c52c0a46dbb956107fc24271e4",
       "version_major": 2,
       "version_minor": 0
      },
      "text/plain": [
       "  0%|          | 0/7 [00:00<?, ?it/s]"
      ]
     },
     "metadata": {},
     "output_type": "display_data"
    },
    {
     "name": "stdout",
     "output_type": "stream",
     "text": [
      "[1, 2, 3, 4, 5, 6, 7]\n"
     ]
    }
   ],
   "source": [
    "from tqdm import tqdm\n",
    "\n",
    "data=[1,2,3,4,5,6,7]\n",
    "def process(x):\n",
    "    return x*2\n",
    "\n",
    "result= [process(x) for x in tqdm(data) ]\n",
    "print(result)\n",
    "\n",
    "#method 2\n",
    "from tqdm.notebook import tqdm\n",
    "import time\n",
    "data=[1,2,3,4,5,6,7]\n",
    "\n",
    "def process(x):\n",
    "    return x*2\n",
    "\n",
    "result=[]\n",
    "for i in tqdm(data):\n",
    "    result.append(i)\n",
    "    time.sleep(0.2)\n",
    "print(result)\n"
   ]
  },
  {
   "cell_type": "markdown",
   "id": "9be07955",
   "metadata": {},
   "source": [
    "*Using Pandas in tqdm*\n",
    "progress_apply, which is a method provided by the tqdm library for pandas DataFrames and Series. This method is essentially a wrapper around the standard apply method, but it adds a progress bar to show how far along the computation is."
   ]
  },
  {
   "cell_type": "code",
   "execution_count": null,
   "id": "e5f4272e",
   "metadata": {},
   "outputs": [
    {
     "name": "stderr",
     "output_type": "stream",
     "text": [
      "working with pandas function: 100%|██████████| 6/6 [00:01<00:00,  4.84it/s]\n"
     ]
    },
    {
     "data": {
      "text/html": [
       "<div>\n",
       "<style scoped>\n",
       "    .dataframe tbody tr th:only-of-type {\n",
       "        vertical-align: middle;\n",
       "    }\n",
       "\n",
       "    .dataframe tbody tr th {\n",
       "        vertical-align: top;\n",
       "    }\n",
       "\n",
       "    .dataframe thead th {\n",
       "        text-align: right;\n",
       "    }\n",
       "</style>\n",
       "<table border=\"1\" class=\"dataframe\">\n",
       "  <thead>\n",
       "    <tr style=\"text-align: right;\">\n",
       "      <th></th>\n",
       "      <th>Data</th>\n",
       "      <th>New data</th>\n",
       "    </tr>\n",
       "  </thead>\n",
       "  <tbody>\n",
       "    <tr>\n",
       "      <th>0</th>\n",
       "      <td>2</td>\n",
       "      <td>4</td>\n",
       "    </tr>\n",
       "    <tr>\n",
       "      <th>1</th>\n",
       "      <td>4</td>\n",
       "      <td>8</td>\n",
       "    </tr>\n",
       "    <tr>\n",
       "      <th>2</th>\n",
       "      <td>6</td>\n",
       "      <td>12</td>\n",
       "    </tr>\n",
       "    <tr>\n",
       "      <th>3</th>\n",
       "      <td>8</td>\n",
       "      <td>16</td>\n",
       "    </tr>\n",
       "    <tr>\n",
       "      <th>4</th>\n",
       "      <td>10</td>\n",
       "      <td>20</td>\n",
       "    </tr>\n",
       "  </tbody>\n",
       "</table>\n",
       "</div>"
      ],
      "text/plain": [
       "   Data  New data\n",
       "0     2         4\n",
       "1     4         8\n",
       "2     6        12\n",
       "3     8        16\n",
       "4    10        20"
      ]
     },
     "execution_count": 48,
     "metadata": {},
     "output_type": "execute_result"
    }
   ],
   "source": [
    "import pandas as pd\n",
    "import time\n",
    "tqdm.pandas(desc=\"Working with pandas\")\n",
    "\n",
    "df=pd.DataFrame({'x': range(10)})\n",
    "df['y']=df['x'].progress_apply(lambda x: x*2)\n",
    "#df.head(10)\n",
    "\n",
    "\n",
    "#method 2\n",
    "import pandas as pd\n",
    "import time\n",
    "tqdm.pandas(desc=\"working with pandas function\")\n",
    "\n",
    "data=[2,4,6,8,10,12]\n",
    "def process(x):\n",
    "    time.sleep(0.2)\n",
    "    return x*2\n",
    "\n",
    "df=pd.DataFrame(data, columns=[\"Data\"])\n",
    "df[\"New data\"] = df[\"Data\"].progress_apply(process)\n",
    "#df.head()"
   ]
  },
  {
   "cell_type": "code",
   "execution_count": null,
   "id": "f233617b",
   "metadata": {},
   "outputs": [
    {
     "name": "stderr",
     "output_type": "stream",
     "text": [
      "100%|██████████| 20/20 [00:00<00:00, 39.52it/s]\n"
     ]
    },
    {
     "ename": "",
     "evalue": "",
     "output_type": "error",
     "traceback": [
      "\u001b[1;31mThe Kernel crashed while executing code in the current cell or a previous cell. \n",
      "\u001b[1;31mPlease review the code in the cell(s) to identify a possible cause of the failure. \n",
      "\u001b[1;31mClick <a href='https://aka.ms/vscodeJupyterKernelCrash'>here</a> for more info. \n",
      "\u001b[1;31mView Jupyter <a href='command:jupyter.viewOutput'>log</a> for further details."
     ]
    }
   ],
   "source": [
    "import asyncio\n",
    "from tqdm.asyncio import tqdm_asyncio\n",
    "\n",
    "async def task(i):\n",
    "    await asyncio.sleep(0.5)\n",
    "\n",
    "async def main():\n",
    "    # Run 20 tasks concurrently with a progress bar\n",
    "    await tqdm_asyncio.gather(*(task(i) for i in range(20)))\n",
    "\n",
    "# Directly await the coroutine\n",
    "await main()\n"
   ]
  },
  {
   "cell_type": "code",
   "execution_count": 6,
   "id": "110c360f",
   "metadata": {},
   "outputs": [
    {
     "name": "stderr",
     "output_type": "stream",
     "text": [
      " 20%|██        | 100/500 [00:01<00:04, 91.38it/s]\n"
     ]
    }
   ],
   "source": [
    "import time\n",
    "from tqdm import tqdm\n",
    "with tqdm(total=500) as pbar:\n",
    "    for i in range(10):\n",
    "        time.sleep(0.1)\n",
    "        pbar.update(10)"
   ]
  }
 ],
 "metadata": {
  "kernelspec": {
   "display_name": ".venv",
   "language": "python",
   "name": "python3"
  },
  "language_info": {
   "codemirror_mode": {
    "name": "ipython",
    "version": 3
   },
   "file_extension": ".py",
   "mimetype": "text/x-python",
   "name": "python",
   "nbconvert_exporter": "python",
   "pygments_lexer": "ipython3",
   "version": "3.10.0"
  }
 },
 "nbformat": 4,
 "nbformat_minor": 5
}
