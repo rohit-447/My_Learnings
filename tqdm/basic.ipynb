{
 "cells": [
  {
   "cell_type": "markdown",
   "id": "f3d871af",
   "metadata": {},
   "source": [
    "Tqdm is lightweight Python library that displays smart progress bars for loops, iterables, and tasks.\n",
    "1. Installation \n",
    "    Termainal : pip install tdqm \n",
    "    Jupyter    : pip install tqdm notebook\n",
    "\n",
    "2. Usage : Wrap the loops, iterables, iterables, tasks inside tqdm\n",
    "    Eg: tqdm(range(1,10,1))"
   ]
  },
  {
   "cell_type": "code",
   "execution_count": 65,
   "id": "e214e853",
   "metadata": {},
   "outputs": [],
   "source": [
    "!pip install ipywidgets #to load the widget modules\n",
    "!pip install tqdm"
   ]
  },
  {
   "cell_type": "code",
   "execution_count": 66,
   "id": "65a202df",
   "metadata": {},
   "outputs": [
    {
     "data": {
      "application/vnd.jupyter.widget-view+json": {
       "model_id": "7b3e3c89c5aa447f80332ab868e21245",
       "version_major": 2,
       "version_minor": 0
      },
      "text/plain": [
       "  0%|          | 0/99 [00:00<?, ?it/s]"
      ]
     },
     "metadata": {},
     "output_type": "display_data"
    }
   ],
   "source": [
    "from tqdm.notebook import tqdm\n",
    "import time\n",
    "for i in tqdm(range(1,100,1)):\n",
    "    time.sleep(0.1)"
   ]
  },
  {
   "cell_type": "markdown",
   "id": "780bf1c9",
   "metadata": {},
   "source": [
    "Attributes\n",
    "1. desc: Description before the bar.\n",
    "2. ncols: Width of the bar.\n",
    "3. ascii: Use ASCII characters instead of Unicode.\n",
    "4. colour: Adds color to the bar (since tqdm v4.48)."
   ]
  },
  {
   "cell_type": "code",
   "execution_count": 67,
   "id": "39d3df5e",
   "metadata": {},
   "outputs": [
    {
     "data": {
      "application/vnd.jupyter.widget-view+json": {
       "model_id": "8a1c894499e048e6a5dcea548d85e9b7",
       "version_major": 2,
       "version_minor": 0
      },
      "text/plain": [
       "Processing:   0%|                                                                                             …"
      ]
     },
     "metadata": {},
     "output_type": "display_data"
    }
   ],
   "source": [
    "from tqdm.notebook import tqdm\n",
    "for i in tqdm(range(0,10,1), desc=\"Processing\", ncols=1000, colour='blue'):\n",
    "    time.sleep(0.1)"
   ]
  },
  {
   "cell_type": "markdown",
   "id": "9b39aa9c",
   "metadata": {},
   "source": [
    "*Changing the Bar Style*"
   ]
  },
  {
   "cell_type": "code",
   "execution_count": 68,
   "id": "115bd6a4",
   "metadata": {},
   "outputs": [
    {
     "data": {
      "application/vnd.jupyter.widget-view+json": {
       "model_id": "d515221cff7b4bd08e15cbfc01dee8d5",
       "version_major": 2,
       "version_minor": 0
      },
      "text/plain": [
       "yg:   0%|          | 0/10 [00:00<?, ?a/s]"
      ]
     },
     "metadata": {},
     "output_type": "display_data"
    }
   ],
   "source": [
    "from tqdm.notebook import tqdm\n",
    "for i in tqdm(range(0,10,1), ascii=\"*\" , desc=\"yg\", unit='a'):\n",
    "    time.sleep(0.1)"
   ]
  },
  {
   "cell_type": "code",
   "execution_count": 69,
   "id": "6ab85b31",
   "metadata": {},
   "outputs": [
    {
     "name": "stderr",
     "output_type": "stream",
     "text": [
      " 20%|██        | 20/100 [00:02<00:08,  9.72it/s]\n"
     ]
    }
   ],
   "source": [
    "from tqdm import tqdm\n",
    "import time\n",
    "\n",
    "pbar = tqdm(total=100)\n",
    "for i in range(10):\n",
    "    time.sleep(0.2)\n",
    "    pbar.update(2)\n",
    "pbar.close()\n"
   ]
  },
  {
   "cell_type": "markdown",
   "id": "d768fadc",
   "metadata": {},
   "source": [
    "Useful when your loop doesn’t iterate directly over an iterable (e.g., reading a file, API calls).\n",
    "pbar.update(value) : Updates the value for each iteration\n",
    "tqdm(total=value)  : Defines the total runs\n"
   ]
  },
  {
   "cell_type": "code",
   "execution_count": 70,
   "id": "13970102",
   "metadata": {},
   "outputs": [
    {
     "name": "stderr",
     "output_type": "stream",
     "text": [
      "100%|██████████| 100/100 [00:00<00:00, 123.84it/s]\n"
     ]
    }
   ],
   "source": [
    "from tqdm import tqdm\n",
    "import time\n",
    "pbar=tqdm(total=100)\n",
    "for i in range (50):\n",
    "    time.sleep(0.01)\n",
    "    pbar.update(2)\n",
    "pbar.close()"
   ]
  },
  {
   "cell_type": "markdown",
   "id": "d8a0b2c9",
   "metadata": {},
   "source": []
  },
  {
   "cell_type": "markdown",
   "id": "b29e7f0d",
   "metadata": {},
   "source": [
    "Using tqdm in loading the Data"
   ]
  },
  {
   "cell_type": "code",
   "execution_count": 71,
   "id": "4444cda3",
   "metadata": {},
   "outputs": [
    {
     "name": "stderr",
     "output_type": "stream",
     "text": [
      "Loading Data: 100%|██████████| 10/10 [00:01<00:00,  9.07it/s]\n"
     ]
    }
   ],
   "source": [
    "from tqdm import tqdm\n",
    "import time\n",
    "\n",
    "Data=[1,2,3,4,5,6,7,8,9,10]\n",
    "for i in tqdm(Data, desc=\"Loading Data\"):\n",
    "    time.sleep(0.1)"
   ]
  },
  {
   "cell_type": "markdown",
   "id": "1f077bd0",
   "metadata": {},
   "source": [
    "Nested Progress Bars\n",
    "Leave : True  -> Keeps the bar after loop ends\n",
    "Leave : False -> Bar gets disappear after the loop ends."
   ]
  },
  {
   "cell_type": "code",
   "execution_count": 72,
   "id": "a21c1ffd",
   "metadata": {},
   "outputs": [
    {
     "data": {
      "application/vnd.jupyter.widget-view+json": {
       "model_id": "83cee7c0ffb54b9babbfe964deb31bf1",
       "version_major": 2,
       "version_minor": 0
      },
      "text/plain": [
       "Epochs:   0%|          | 0/3 [00:00<?, ?it/s]"
      ]
     },
     "metadata": {},
     "output_type": "display_data"
    },
    {
     "data": {
      "application/vnd.jupyter.widget-view+json": {
       "model_id": "e54264cb8a334782a8851c4d11030416",
       "version_major": 2,
       "version_minor": 0
      },
      "text/plain": [
       "Batches:   0%|          | 0/5 [00:00<?, ?it/s]"
      ]
     },
     "metadata": {},
     "output_type": "display_data"
    },
    {
     "data": {
      "application/vnd.jupyter.widget-view+json": {
       "model_id": "19a0013803994a09a8a4f39d5b319157",
       "version_major": 2,
       "version_minor": 0
      },
      "text/plain": [
       "Batches:   0%|          | 0/5 [00:00<?, ?it/s]"
      ]
     },
     "metadata": {},
     "output_type": "display_data"
    },
    {
     "data": {
      "application/vnd.jupyter.widget-view+json": {
       "model_id": "c772e46f68314980963375989a815348",
       "version_major": 2,
       "version_minor": 0
      },
      "text/plain": [
       "Batches:   0%|          | 0/5 [00:00<?, ?it/s]"
      ]
     },
     "metadata": {},
     "output_type": "display_data"
    }
   ],
   "source": [
    "from tqdm.notebook import tqdm\n",
    "import time\n",
    "\n",
    "for i in tqdm(range(3), desc=\"Epochs\", leave=True):\n",
    "    for j in tqdm(range(5), desc=\"Batches\", leave=False):\n",
    "        time.sleep(0.2)\n"
   ]
  },
  {
   "cell_type": "markdown",
   "id": "e0eb8fa3",
   "metadata": {},
   "source": [
    "tqdm.write : Same print but gives a clear output "
   ]
  },
  {
   "cell_type": "code",
   "execution_count": 73,
   "id": "adb76cb9",
   "metadata": {},
   "outputs": [
    {
     "name": "stderr",
     "output_type": "stream",
     "text": [
      "\n",
      "  0%|          | 0/10 [00:48<?, ?it/s]"
     ]
    },
    {
     "name": "stdout",
     "output_type": "stream",
     "text": [
      "Processed item 0\n"
     ]
    },
    {
     "name": "stderr",
     "output_type": "stream",
     "text": [
      "\n",
      "  0%|          | 0/10 [00:49<?, ?it/s]       "
     ]
    },
    {
     "name": "stdout",
     "output_type": "stream",
     "text": [
      "Processed item 1\n"
     ]
    },
    {
     "name": "stderr",
     "output_type": "stream",
     "text": [
      "\n",
      "  0%|          | 0/10 [00:49<?, ?it/s]       "
     ]
    },
    {
     "name": "stdout",
     "output_type": "stream",
     "text": [
      "Processed item 2\n"
     ]
    },
    {
     "name": "stderr",
     "output_type": "stream",
     "text": [
      "\n",
      "  0%|          | 0/10 [00:50<?, ?it/s]       "
     ]
    },
    {
     "name": "stdout",
     "output_type": "stream",
     "text": [
      "Processed item 3\n"
     ]
    },
    {
     "name": "stderr",
     "output_type": "stream",
     "text": [
      "\n",
      "100%|██████████| 5/5 [00:02<00:00,  1.92it/s]\n"
     ]
    },
    {
     "name": "stdout",
     "output_type": "stream",
     "text": [
      "Processed item 4\n"
     ]
    },
    {
     "name": "stderr",
     "output_type": "stream",
     "text": []
    },
    {
     "name": "stdout",
     "output_type": "stream",
     "text": [
      "Processed item 0\n"
     ]
    },
    {
     "name": "stderr",
     "output_type": "stream",
     "text": []
    },
    {
     "name": "stdout",
     "output_type": "stream",
     "text": [
      "Processed item 1\n"
     ]
    },
    {
     "name": "stderr",
     "output_type": "stream",
     "text": []
    },
    {
     "name": "stdout",
     "output_type": "stream",
     "text": [
      "Processed item 2\n"
     ]
    },
    {
     "name": "stderr",
     "output_type": "stream",
     "text": []
    },
    {
     "name": "stdout",
     "output_type": "stream",
     "text": [
      "Processed item 3\n"
     ]
    },
    {
     "name": "stderr",
     "output_type": "stream",
     "text": [
      "100%|██████████| 5/5 [00:02<00:00,  1.96it/s]"
     ]
    },
    {
     "name": "stdout",
     "output_type": "stream",
     "text": [
      "Processed item 4\n"
     ]
    },
    {
     "name": "stderr",
     "output_type": "stream",
     "text": [
      "\n"
     ]
    }
   ],
   "source": [
    "from tqdm import tqdm\n",
    "import time\n",
    "\n",
    "for i in tqdm(range(5)):\n",
    "    time.sleep(0.5)\n",
    "    tqdm.write(f\"Processed item {i}\")\n",
    "\n",
    "\n",
    "from tqdm import tqdm\n",
    "import time\n",
    "\n",
    "for i in tqdm(range(5)):\n",
    "    time.sleep(0.5)\n",
    "    print(f\"Processed item {i}\")\n"
   ]
  }
 ],
 "metadata": {
  "kernelspec": {
   "display_name": ".venv",
   "language": "python",
   "name": "python3"
  },
  "language_info": {
   "codemirror_mode": {
    "name": "ipython",
    "version": 3
   },
   "file_extension": ".py",
   "mimetype": "text/x-python",
   "name": "python",
   "nbconvert_exporter": "python",
   "pygments_lexer": "ipython3",
   "version": "3.10.0"
  }
 },
 "nbformat": 4,
 "nbformat_minor": 5
}
