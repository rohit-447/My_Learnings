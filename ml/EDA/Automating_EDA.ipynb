{
 "cells": [
  {
   "cell_type": "markdown",
   "id": "5b978741-e1a5-4909-ad76-c5b72d9b580b",
   "metadata": {},
   "source": [
    "# Libraries"
   ]
  },
  {
   "cell_type": "code",
   "execution_count": 1,
   "id": "758c80e5-44ae-412b-8c7e-dc0ce8bfb8aa",
   "metadata": {},
   "outputs": [
    {
     "name": "stderr",
     "output_type": "stream",
     "text": [
      "C:\\Users\\Rohit\\anaconda3\\envs\\my_learning_venv\\Lib\\site-packages\\tqdm\\auto.py:21: TqdmWarning: IProgress not found. Please update jupyter and ipywidgets. See https://ipywidgets.readthedocs.io/en/stable/user_install.html\n",
      "  from .autonotebook import tqdm as notebook_tqdm\n"
     ]
    },
    {
     "data": {
      "text/html": [
       "\n",
       "            <div>\n",
       "                <ins><a href=\"https://ydata.ai/register\">Upgrade to ydata-sdk</a></ins>\n",
       "                <p>\n",
       "                    Improve your data and profiling with ydata-sdk, featuring data quality scoring, redundancy detection, outlier identification, text validation, and synthetic data generation.\n",
       "                </p>\n",
       "            </div>\n",
       "            "
      ],
      "text/plain": [
       "<IPython.core.display.HTML object>"
      ]
     },
     "metadata": {},
     "output_type": "display_data"
    }
   ],
   "source": [
    "import pandas as pd\n",
    "from ydata_profiling import ProfileReport"
   ]
  },
  {
   "cell_type": "markdown",
   "id": "c71f6681-a3a4-4ab9-9c3d-feebe3f28515",
   "metadata": {},
   "source": [
    "# DataFrame"
   ]
  },
  {
   "cell_type": "code",
   "execution_count": 2,
   "id": "a8f4526d-240d-4e15-9c00-8b6c6186718d",
   "metadata": {},
   "outputs": [],
   "source": [
    "df=pd.read_csv('Titanic-Dataset.csv')"
   ]
  },
  {
   "cell_type": "markdown",
   "id": "fdda28a0-7172-445b-b699-40f3f5d47afd",
   "metadata": {},
   "source": [
    "### Installing the library"
   ]
  },
  {
   "cell_type": "code",
   "execution_count": 3,
   "id": "2dae8180-1900-44fc-be52-1642909fca03",
   "metadata": {},
   "outputs": [
    {
     "name": "stdout",
     "output_type": "stream",
     "text": [
      "Requirement already satisfied: ydata-profiling in c:\\users\\rohit\\anaconda3\\envs\\my_learning_venv\\lib\\site-packages (4.17.0)\n",
      "Requirement already satisfied: scipy<1.16,>=1.4.1 in c:\\users\\rohit\\anaconda3\\envs\\my_learning_venv\\lib\\site-packages (from ydata-profiling) (1.15.3)\n",
      "Requirement already satisfied: pandas!=1.4.0,<3.0,>1.1 in c:\\users\\rohit\\anaconda3\\envs\\my_learning_venv\\lib\\site-packages (from ydata-profiling) (2.3.3)\n",
      "Requirement already satisfied: matplotlib<=3.10,>=3.5 in c:\\users\\rohit\\anaconda3\\envs\\my_learning_venv\\lib\\site-packages (from ydata-profiling) (3.10.0)\n",
      "Requirement already satisfied: pydantic>=2 in c:\\users\\rohit\\anaconda3\\envs\\my_learning_venv\\lib\\site-packages (from ydata-profiling) (2.12.3)\n",
      "Requirement already satisfied: PyYAML<6.1,>=5.0.0 in c:\\users\\rohit\\anaconda3\\envs\\my_learning_venv\\lib\\site-packages (from ydata-profiling) (6.0.2)\n",
      "Requirement already satisfied: jinja2<3.2,>=2.11.1 in c:\\users\\rohit\\anaconda3\\envs\\my_learning_venv\\lib\\site-packages (from ydata-profiling) (3.1.6)\n",
      "Requirement already satisfied: visions<0.8.2,>=0.7.5 in c:\\users\\rohit\\anaconda3\\envs\\my_learning_venv\\lib\\site-packages (from visions[type_image_path]<0.8.2,>=0.7.5->ydata-profiling) (0.8.1)\n",
      "Requirement already satisfied: numpy<2.2,>=1.16.0 in c:\\users\\rohit\\anaconda3\\envs\\my_learning_venv\\lib\\site-packages (from ydata-profiling) (2.1.3)\n",
      "Requirement already satisfied: minify-html>=0.15.0 in c:\\users\\rohit\\anaconda3\\envs\\my_learning_venv\\lib\\site-packages (from ydata-profiling) (0.16.4)\n",
      "Requirement already satisfied: filetype>=1.0.0 in c:\\users\\rohit\\anaconda3\\envs\\my_learning_venv\\lib\\site-packages (from ydata-profiling) (1.2.0)\n",
      "Requirement already satisfied: phik<0.13,>=0.11.1 in c:\\users\\rohit\\anaconda3\\envs\\my_learning_venv\\lib\\site-packages (from ydata-profiling) (0.12.5)\n",
      "Requirement already satisfied: requests<3,>=2.24.0 in c:\\users\\rohit\\anaconda3\\envs\\my_learning_venv\\lib\\site-packages (from ydata-profiling) (2.32.5)\n",
      "Requirement already satisfied: tqdm<5,>=4.48.2 in c:\\users\\rohit\\anaconda3\\envs\\my_learning_venv\\lib\\site-packages (from ydata-profiling) (4.67.1)\n",
      "Requirement already satisfied: seaborn<0.14,>=0.10.1 in c:\\users\\rohit\\anaconda3\\envs\\my_learning_venv\\lib\\site-packages (from ydata-profiling) (0.13.2)\n",
      "Requirement already satisfied: multimethod<2,>=1.4 in c:\\users\\rohit\\anaconda3\\envs\\my_learning_venv\\lib\\site-packages (from ydata-profiling) (1.12)\n",
      "Requirement already satisfied: statsmodels<1,>=0.13.2 in c:\\users\\rohit\\anaconda3\\envs\\my_learning_venv\\lib\\site-packages (from ydata-profiling) (0.14.5)\n",
      "Requirement already satisfied: typeguard<5,>=3 in c:\\users\\rohit\\anaconda3\\envs\\my_learning_venv\\lib\\site-packages (from ydata-profiling) (4.4.4)\n",
      "Requirement already satisfied: imagehash==4.3.1 in c:\\users\\rohit\\anaconda3\\envs\\my_learning_venv\\lib\\site-packages (from ydata-profiling) (4.3.1)\n",
      "Requirement already satisfied: wordcloud>=1.9.3 in c:\\users\\rohit\\anaconda3\\envs\\my_learning_venv\\lib\\site-packages (from ydata-profiling) (1.9.4)\n",
      "Requirement already satisfied: dacite>=1.8 in c:\\users\\rohit\\anaconda3\\envs\\my_learning_venv\\lib\\site-packages (from ydata-profiling) (1.9.2)\n",
      "Requirement already satisfied: numba<=0.61,>=0.56.0 in c:\\users\\rohit\\anaconda3\\envs\\my_learning_venv\\lib\\site-packages (from ydata-profiling) (0.61.0)\n",
      "Requirement already satisfied: PyWavelets in c:\\users\\rohit\\anaconda3\\envs\\my_learning_venv\\lib\\site-packages (from imagehash==4.3.1->ydata-profiling) (1.9.0)\n",
      "Requirement already satisfied: pillow in c:\\users\\rohit\\anaconda3\\envs\\my_learning_venv\\lib\\site-packages (from imagehash==4.3.1->ydata-profiling) (12.0.0)\n",
      "Requirement already satisfied: MarkupSafe>=2.0 in c:\\users\\rohit\\anaconda3\\envs\\my_learning_venv\\lib\\site-packages (from jinja2<3.2,>=2.11.1->ydata-profiling) (3.0.2)\n",
      "Requirement already satisfied: contourpy>=1.0.1 in c:\\users\\rohit\\anaconda3\\envs\\my_learning_venv\\lib\\site-packages (from matplotlib<=3.10,>=3.5->ydata-profiling) (1.3.3)\n",
      "Requirement already satisfied: cycler>=0.10 in c:\\users\\rohit\\anaconda3\\envs\\my_learning_venv\\lib\\site-packages (from matplotlib<=3.10,>=3.5->ydata-profiling) (0.12.1)\n",
      "Requirement already satisfied: fonttools>=4.22.0 in c:\\users\\rohit\\anaconda3\\envs\\my_learning_venv\\lib\\site-packages (from matplotlib<=3.10,>=3.5->ydata-profiling) (4.60.1)\n",
      "Requirement already satisfied: kiwisolver>=1.3.1 in c:\\users\\rohit\\anaconda3\\envs\\my_learning_venv\\lib\\site-packages (from matplotlib<=3.10,>=3.5->ydata-profiling) (1.4.9)\n",
      "Requirement already satisfied: packaging>=20.0 in c:\\users\\rohit\\anaconda3\\envs\\my_learning_venv\\lib\\site-packages (from matplotlib<=3.10,>=3.5->ydata-profiling) (25.0)\n",
      "Requirement already satisfied: pyparsing>=2.3.1 in c:\\users\\rohit\\anaconda3\\envs\\my_learning_venv\\lib\\site-packages (from matplotlib<=3.10,>=3.5->ydata-profiling) (3.2.5)\n",
      "Requirement already satisfied: python-dateutil>=2.7 in c:\\users\\rohit\\anaconda3\\envs\\my_learning_venv\\lib\\site-packages (from matplotlib<=3.10,>=3.5->ydata-profiling) (2.9.0.post0)\n",
      "Requirement already satisfied: llvmlite<0.45,>=0.44.0dev0 in c:\\users\\rohit\\anaconda3\\envs\\my_learning_venv\\lib\\site-packages (from numba<=0.61,>=0.56.0->ydata-profiling) (0.44.0)\n",
      "Requirement already satisfied: pytz>=2020.1 in c:\\users\\rohit\\anaconda3\\envs\\my_learning_venv\\lib\\site-packages (from pandas!=1.4.0,<3.0,>1.1->ydata-profiling) (2025.2)\n",
      "Requirement already satisfied: tzdata>=2022.7 in c:\\users\\rohit\\anaconda3\\envs\\my_learning_venv\\lib\\site-packages (from pandas!=1.4.0,<3.0,>1.1->ydata-profiling) (2025.2)\n",
      "Requirement already satisfied: joblib>=0.14.1 in c:\\users\\rohit\\anaconda3\\envs\\my_learning_venv\\lib\\site-packages (from phik<0.13,>=0.11.1->ydata-profiling) (1.5.2)\n",
      "Requirement already satisfied: charset_normalizer<4,>=2 in c:\\users\\rohit\\anaconda3\\envs\\my_learning_venv\\lib\\site-packages (from requests<3,>=2.24.0->ydata-profiling) (3.3.2)\n",
      "Requirement already satisfied: idna<4,>=2.5 in c:\\users\\rohit\\anaconda3\\envs\\my_learning_venv\\lib\\site-packages (from requests<3,>=2.24.0->ydata-profiling) (3.7)\n",
      "Requirement already satisfied: urllib3<3,>=1.21.1 in c:\\users\\rohit\\anaconda3\\envs\\my_learning_venv\\lib\\site-packages (from requests<3,>=2.24.0->ydata-profiling) (2.5.0)\n",
      "Requirement already satisfied: certifi>=2017.4.17 in c:\\users\\rohit\\anaconda3\\envs\\my_learning_venv\\lib\\site-packages (from requests<3,>=2.24.0->ydata-profiling) (2025.10.5)\n",
      "Requirement already satisfied: patsy>=0.5.6 in c:\\users\\rohit\\anaconda3\\envs\\my_learning_venv\\lib\\site-packages (from statsmodels<1,>=0.13.2->ydata-profiling) (1.0.2)\n",
      "Requirement already satisfied: colorama in c:\\users\\rohit\\anaconda3\\envs\\my_learning_venv\\lib\\site-packages (from tqdm<5,>=4.48.2->ydata-profiling) (0.4.6)\n",
      "Requirement already satisfied: typing_extensions>=4.14.0 in c:\\users\\rohit\\anaconda3\\envs\\my_learning_venv\\lib\\site-packages (from typeguard<5,>=3->ydata-profiling) (4.15.0)\n",
      "Requirement already satisfied: attrs>=19.3.0 in c:\\users\\rohit\\anaconda3\\envs\\my_learning_venv\\lib\\site-packages (from visions<0.8.2,>=0.7.5->visions[type_image_path]<0.8.2,>=0.7.5->ydata-profiling) (24.3.0)\n",
      "Requirement already satisfied: networkx>=2.4 in c:\\users\\rohit\\anaconda3\\envs\\my_learning_venv\\lib\\site-packages (from visions<0.8.2,>=0.7.5->visions[type_image_path]<0.8.2,>=0.7.5->ydata-profiling) (3.5)\n",
      "Requirement already satisfied: puremagic in c:\\users\\rohit\\anaconda3\\envs\\my_learning_venv\\lib\\site-packages (from visions<0.8.2,>=0.7.5->visions[type_image_path]<0.8.2,>=0.7.5->ydata-profiling) (1.30)\n",
      "Requirement already satisfied: annotated-types>=0.6.0 in c:\\users\\rohit\\anaconda3\\envs\\my_learning_venv\\lib\\site-packages (from pydantic>=2->ydata-profiling) (0.7.0)\n",
      "Requirement already satisfied: pydantic-core==2.41.4 in c:\\users\\rohit\\anaconda3\\envs\\my_learning_venv\\lib\\site-packages (from pydantic>=2->ydata-profiling) (2.41.4)\n",
      "Requirement already satisfied: typing-inspection>=0.4.2 in c:\\users\\rohit\\anaconda3\\envs\\my_learning_venv\\lib\\site-packages (from pydantic>=2->ydata-profiling) (0.4.2)\n",
      "Requirement already satisfied: six>=1.5 in c:\\users\\rohit\\anaconda3\\envs\\my_learning_venv\\lib\\site-packages (from python-dateutil>=2.7->matplotlib<=3.10,>=3.5->ydata-profiling) (1.17.0)\n",
      "Note: you may need to restart the kernel to use updated packages.\n"
     ]
    }
   ],
   "source": [
    "pip install ydata-profiling"
   ]
  },
  {
   "cell_type": "markdown",
   "id": "6b970300-458d-4b75-a146-539c6e1e0d44",
   "metadata": {},
   "source": [
    "# Using ProfileReport to genrate EDA Report"
   ]
  },
  {
   "cell_type": "code",
   "execution_count": 4,
   "id": "7aa8d390-b301-4f22-bf40-210bf5dce9b2",
   "metadata": {},
   "outputs": [],
   "source": [
    "profile=ProfileReport(df, title='EDA Report')\n"
   ]
  },
  {
   "cell_type": "markdown",
   "id": "6a0bffe7-a6b5-4ab4-9523-99d33d9bc5a6",
   "metadata": {},
   "source": [
    "## Saving the Report"
   ]
  },
  {
   "cell_type": "code",
   "execution_count": 5,
   "id": "63b59044-e2ea-404a-97ef-3de8e352f95f",
   "metadata": {},
   "outputs": [
    {
     "name": "stderr",
     "output_type": "stream",
     "text": [
      "Summarize dataset:  18%|██████▏                            | 3/17 [00:00<00:00, 46.78it/s, Describe variable: Embarked]\n",
      "100%|█████████████████████████████████████████████████████████████████████████████████| 12/12 [00:00<00:00, 158.80it/s]\n",
      "Summarize dataset: 100%|████████████████████████████████████████████████████| 47/47 [00:01<00:00, 24.42it/s, Completed]\n",
      "Generate report structure: 100%|█████████████████████████████████████████████████████████| 1/1 [00:02<00:00,  2.58s/it]\n",
      "Render HTML: 100%|███████████████████████████████████████████████████████████████████████| 1/1 [00:00<00:00,  3.74it/s]\n",
      "Export report to file: 100%|█████████████████████████████████████████████████████████████| 1/1 [00:00<00:00, 86.57it/s]\n"
     ]
    }
   ],
   "source": [
    "profile.to_file('Report.html')"
   ]
  }
 ],
 "metadata": {
  "kernelspec": {
   "display_name": "my_learning_venv",
   "language": "python",
   "name": "my_learning_venv"
  },
  "language_info": {
   "codemirror_mode": {
    "name": "ipython",
    "version": 3
   },
   "file_extension": ".py",
   "mimetype": "text/x-python",
   "name": "python",
   "nbconvert_exporter": "python",
   "pygments_lexer": "ipython3",
   "version": "3.13.7"
  }
 },
 "nbformat": 4,
 "nbformat_minor": 5
}
