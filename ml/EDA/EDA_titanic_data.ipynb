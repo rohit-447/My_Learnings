{
 "cells": [
  {
   "cell_type": "markdown",
   "id": "9d587816-5b1e-4105-a81a-d7daac34d7b7",
   "metadata": {},
   "source": [
    "# EDA on Titanic Dataset Understanding the data"
   ]
  },
  {
   "cell_type": "markdown",
   "id": "cb586e8c-2e54-41e0-9b57-ca8135db72ae",
   "metadata": {},
   "source": [
    "### Libraries"
   ]
  },
  {
   "cell_type": "code",
   "execution_count": 1,
   "id": "f2a134bc-29f8-40a8-b57c-3e0fa017b4d3",
   "metadata": {},
   "outputs": [],
   "source": [
    "import pandas as pd\n",
    "import matplotlib as plt\n",
    "import seaborn as sns"
   ]
  },
  {
   "cell_type": "markdown",
   "id": "1c2f04ce-1389-4758-9e65-7197bcdc795c",
   "metadata": {},
   "source": [
    "# Understanding the data"
   ]
  },
  {
   "cell_type": "code",
   "execution_count": 2,
   "id": "648c746e-988e-47a9-975b-062aebea6bb9",
   "metadata": {},
   "outputs": [
    {
     "data": {
      "text/html": [
       "<div>\n",
       "<style scoped>\n",
       "    .dataframe tbody tr th:only-of-type {\n",
       "        vertical-align: middle;\n",
       "    }\n",
       "\n",
       "    .dataframe tbody tr th {\n",
       "        vertical-align: top;\n",
       "    }\n",
       "\n",
       "    .dataframe thead th {\n",
       "        text-align: right;\n",
       "    }\n",
       "</style>\n",
       "<table border=\"1\" class=\"dataframe\">\n",
       "  <thead>\n",
       "    <tr style=\"text-align: right;\">\n",
       "      <th></th>\n",
       "      <th>PassengerId</th>\n",
       "      <th>Survived</th>\n",
       "      <th>Pclass</th>\n",
       "      <th>Name</th>\n",
       "      <th>Sex</th>\n",
       "      <th>Age</th>\n",
       "      <th>SibSp</th>\n",
       "      <th>Parch</th>\n",
       "      <th>Ticket</th>\n",
       "      <th>Fare</th>\n",
       "      <th>Cabin</th>\n",
       "      <th>Embarked</th>\n",
       "    </tr>\n",
       "  </thead>\n",
       "  <tbody>\n",
       "    <tr>\n",
       "      <th>273</th>\n",
       "      <td>274</td>\n",
       "      <td>0</td>\n",
       "      <td>1</td>\n",
       "      <td>Natsch, Mr. Charles H</td>\n",
       "      <td>male</td>\n",
       "      <td>37.0</td>\n",
       "      <td>0</td>\n",
       "      <td>1</td>\n",
       "      <td>PC 17596</td>\n",
       "      <td>29.70</td>\n",
       "      <td>C118</td>\n",
       "      <td>C</td>\n",
       "    </tr>\n",
       "    <tr>\n",
       "      <th>355</th>\n",
       "      <td>356</td>\n",
       "      <td>0</td>\n",
       "      <td>3</td>\n",
       "      <td>Vanden Steen, Mr. Leo Peter</td>\n",
       "      <td>male</td>\n",
       "      <td>28.0</td>\n",
       "      <td>0</td>\n",
       "      <td>0</td>\n",
       "      <td>345783</td>\n",
       "      <td>9.50</td>\n",
       "      <td>NaN</td>\n",
       "      <td>S</td>\n",
       "    </tr>\n",
       "    <tr>\n",
       "      <th>696</th>\n",
       "      <td>697</td>\n",
       "      <td>0</td>\n",
       "      <td>3</td>\n",
       "      <td>Kelly, Mr. James</td>\n",
       "      <td>male</td>\n",
       "      <td>44.0</td>\n",
       "      <td>0</td>\n",
       "      <td>0</td>\n",
       "      <td>363592</td>\n",
       "      <td>8.05</td>\n",
       "      <td>NaN</td>\n",
       "      <td>S</td>\n",
       "    </tr>\n",
       "    <tr>\n",
       "      <th>440</th>\n",
       "      <td>441</td>\n",
       "      <td>1</td>\n",
       "      <td>2</td>\n",
       "      <td>Hart, Mrs. Benjamin (Esther Ada Bloomfield)</td>\n",
       "      <td>female</td>\n",
       "      <td>45.0</td>\n",
       "      <td>1</td>\n",
       "      <td>1</td>\n",
       "      <td>F.C.C. 13529</td>\n",
       "      <td>26.25</td>\n",
       "      <td>NaN</td>\n",
       "      <td>S</td>\n",
       "    </tr>\n",
       "    <tr>\n",
       "      <th>637</th>\n",
       "      <td>638</td>\n",
       "      <td>0</td>\n",
       "      <td>2</td>\n",
       "      <td>Collyer, Mr. Harvey</td>\n",
       "      <td>male</td>\n",
       "      <td>31.0</td>\n",
       "      <td>1</td>\n",
       "      <td>1</td>\n",
       "      <td>C.A. 31921</td>\n",
       "      <td>26.25</td>\n",
       "      <td>NaN</td>\n",
       "      <td>S</td>\n",
       "    </tr>\n",
       "  </tbody>\n",
       "</table>\n",
       "</div>"
      ],
      "text/plain": [
       "     PassengerId  Survived  Pclass  \\\n",
       "273          274         0       1   \n",
       "355          356         0       3   \n",
       "696          697         0       3   \n",
       "440          441         1       2   \n",
       "637          638         0       2   \n",
       "\n",
       "                                            Name     Sex   Age  SibSp  Parch  \\\n",
       "273                        Natsch, Mr. Charles H    male  37.0      0      1   \n",
       "355                  Vanden Steen, Mr. Leo Peter    male  28.0      0      0   \n",
       "696                             Kelly, Mr. James    male  44.0      0      0   \n",
       "440  Hart, Mrs. Benjamin (Esther Ada Bloomfield)  female  45.0      1      1   \n",
       "637                          Collyer, Mr. Harvey    male  31.0      1      1   \n",
       "\n",
       "           Ticket   Fare Cabin Embarked  \n",
       "273      PC 17596  29.70  C118        C  \n",
       "355        345783   9.50   NaN        S  \n",
       "696        363592   8.05   NaN        S  \n",
       "440  F.C.C. 13529  26.25   NaN        S  \n",
       "637    C.A. 31921  26.25   NaN        S  "
      ]
     },
     "execution_count": 2,
     "metadata": {},
     "output_type": "execute_result"
    }
   ],
   "source": [
    "df= pd.read_csv('Titanic-Dataset.csv')\n",
    "df.sample(5)"
   ]
  },
  {
   "cell_type": "markdown",
   "id": "e601bd86-a0d8-43fd-bd98-71f62560bc79",
   "metadata": {},
   "source": [
    "`df.smaple(n)` shows the random value from the dataset to get the overview about the dataset."
   ]
  },
  {
   "cell_type": "code",
   "execution_count": 4,
   "id": "d9a25069-320a-4e2b-b234-095856e048f3",
   "metadata": {},
   "outputs": [
    {
     "data": {
      "text/plain": [
       "(891, 12)"
      ]
     },
     "execution_count": 4,
     "metadata": {},
     "output_type": "execute_result"
    }
   ],
   "source": [
    "df.shape"
   ]
  },
  {
   "cell_type": "markdown",
   "id": "9955bc34-e9b7-4a52-9b11-9d9bdaf96fba",
   "metadata": {},
   "source": [
    "`df.shape` returns a tuple representing the number of rows and columns in the dataset. It gives you a quick overview of the dataset's dimensions, in the format (rows, columns)."
   ]
  },
  {
   "cell_type": "code",
   "execution_count": 10,
   "id": "b923f7af-6ef5-4979-be97-9b7b5ae1b538",
   "metadata": {},
   "outputs": [
    {
     "name": "stdout",
     "output_type": "stream",
     "text": [
      "<class 'pandas.core.frame.DataFrame'>\n",
      "RangeIndex: 891 entries, 0 to 890\n",
      "Data columns (total 12 columns):\n",
      " #   Column       Non-Null Count  Dtype  \n",
      "---  ------       --------------  -----  \n",
      " 0   PassengerId  891 non-null    int64  \n",
      " 1   Survived     891 non-null    int64  \n",
      " 2   Pclass       891 non-null    int64  \n",
      " 3   Name         891 non-null    object \n",
      " 4   Sex          891 non-null    object \n",
      " 5   Age          714 non-null    float64\n",
      " 6   SibSp        891 non-null    int64  \n",
      " 7   Parch        891 non-null    int64  \n",
      " 8   Ticket       891 non-null    object \n",
      " 9   Fare         891 non-null    float64\n",
      " 10  Cabin        204 non-null    object \n",
      " 11  Embarked     889 non-null    object \n",
      "dtypes: float64(2), int64(5), object(5)\n",
      "memory usage: 83.7+ KB\n"
     ]
    }
   ],
   "source": [
    "df.info()"
   ]
  },
  {
   "cell_type": "markdown",
   "id": "256ec083-a210-4f3c-bc05-d4dd80319eb0",
   "metadata": {},
   "source": [
    "`df.info()` provides a summary of the DataFrame, including the column names, the number of non-null values, and the data types of each column."
   ]
  },
  {
   "cell_type": "code",
   "execution_count": 3,
   "id": "1a50ea0b-960f-4031-8ad6-2abcb67c5c5b",
   "metadata": {},
   "outputs": [
    {
     "data": {
      "text/html": [
       "<div>\n",
       "<style scoped>\n",
       "    .dataframe tbody tr th:only-of-type {\n",
       "        vertical-align: middle;\n",
       "    }\n",
       "\n",
       "    .dataframe tbody tr th {\n",
       "        vertical-align: top;\n",
       "    }\n",
       "\n",
       "    .dataframe thead th {\n",
       "        text-align: right;\n",
       "    }\n",
       "</style>\n",
       "<table border=\"1\" class=\"dataframe\">\n",
       "  <thead>\n",
       "    <tr style=\"text-align: right;\">\n",
       "      <th></th>\n",
       "      <th>PassengerId</th>\n",
       "      <th>Survived</th>\n",
       "      <th>Pclass</th>\n",
       "      <th>Age</th>\n",
       "      <th>SibSp</th>\n",
       "      <th>Parch</th>\n",
       "      <th>Fare</th>\n",
       "    </tr>\n",
       "  </thead>\n",
       "  <tbody>\n",
       "    <tr>\n",
       "      <th>count</th>\n",
       "      <td>891.000000</td>\n",
       "      <td>891.000000</td>\n",
       "      <td>891.000000</td>\n",
       "      <td>714.000000</td>\n",
       "      <td>891.000000</td>\n",
       "      <td>891.000000</td>\n",
       "      <td>891.000000</td>\n",
       "    </tr>\n",
       "    <tr>\n",
       "      <th>mean</th>\n",
       "      <td>446.000000</td>\n",
       "      <td>0.383838</td>\n",
       "      <td>2.308642</td>\n",
       "      <td>29.699118</td>\n",
       "      <td>0.523008</td>\n",
       "      <td>0.381594</td>\n",
       "      <td>32.204208</td>\n",
       "    </tr>\n",
       "    <tr>\n",
       "      <th>std</th>\n",
       "      <td>257.353842</td>\n",
       "      <td>0.486592</td>\n",
       "      <td>0.836071</td>\n",
       "      <td>14.526497</td>\n",
       "      <td>1.102743</td>\n",
       "      <td>0.806057</td>\n",
       "      <td>49.693429</td>\n",
       "    </tr>\n",
       "    <tr>\n",
       "      <th>min</th>\n",
       "      <td>1.000000</td>\n",
       "      <td>0.000000</td>\n",
       "      <td>1.000000</td>\n",
       "      <td>0.420000</td>\n",
       "      <td>0.000000</td>\n",
       "      <td>0.000000</td>\n",
       "      <td>0.000000</td>\n",
       "    </tr>\n",
       "    <tr>\n",
       "      <th>25%</th>\n",
       "      <td>223.500000</td>\n",
       "      <td>0.000000</td>\n",
       "      <td>2.000000</td>\n",
       "      <td>20.125000</td>\n",
       "      <td>0.000000</td>\n",
       "      <td>0.000000</td>\n",
       "      <td>7.910400</td>\n",
       "    </tr>\n",
       "    <tr>\n",
       "      <th>50%</th>\n",
       "      <td>446.000000</td>\n",
       "      <td>0.000000</td>\n",
       "      <td>3.000000</td>\n",
       "      <td>28.000000</td>\n",
       "      <td>0.000000</td>\n",
       "      <td>0.000000</td>\n",
       "      <td>14.454200</td>\n",
       "    </tr>\n",
       "    <tr>\n",
       "      <th>75%</th>\n",
       "      <td>668.500000</td>\n",
       "      <td>1.000000</td>\n",
       "      <td>3.000000</td>\n",
       "      <td>38.000000</td>\n",
       "      <td>1.000000</td>\n",
       "      <td>0.000000</td>\n",
       "      <td>31.000000</td>\n",
       "    </tr>\n",
       "    <tr>\n",
       "      <th>max</th>\n",
       "      <td>891.000000</td>\n",
       "      <td>1.000000</td>\n",
       "      <td>3.000000</td>\n",
       "      <td>80.000000</td>\n",
       "      <td>8.000000</td>\n",
       "      <td>6.000000</td>\n",
       "      <td>512.329200</td>\n",
       "    </tr>\n",
       "  </tbody>\n",
       "</table>\n",
       "</div>"
      ],
      "text/plain": [
       "       PassengerId    Survived      Pclass         Age       SibSp  \\\n",
       "count   891.000000  891.000000  891.000000  714.000000  891.000000   \n",
       "mean    446.000000    0.383838    2.308642   29.699118    0.523008   \n",
       "std     257.353842    0.486592    0.836071   14.526497    1.102743   \n",
       "min       1.000000    0.000000    1.000000    0.420000    0.000000   \n",
       "25%     223.500000    0.000000    2.000000   20.125000    0.000000   \n",
       "50%     446.000000    0.000000    3.000000   28.000000    0.000000   \n",
       "75%     668.500000    1.000000    3.000000   38.000000    1.000000   \n",
       "max     891.000000    1.000000    3.000000   80.000000    8.000000   \n",
       "\n",
       "            Parch        Fare  \n",
       "count  891.000000  891.000000  \n",
       "mean     0.381594   32.204208  \n",
       "std      0.806057   49.693429  \n",
       "min      0.000000    0.000000  \n",
       "25%      0.000000    7.910400  \n",
       "50%      0.000000   14.454200  \n",
       "75%      0.000000   31.000000  \n",
       "max      6.000000  512.329200  "
      ]
     },
     "execution_count": 3,
     "metadata": {},
     "output_type": "execute_result"
    }
   ],
   "source": [
    "df.describe()"
   ]
  },
  {
   "cell_type": "markdown",
   "id": "13ad1d76-71db-44c3-a3e9-2a165d6dec17",
   "metadata": {},
   "source": [
    "`df.describe()` generates summary statistics of the numerical columns in a DataFrame. It provides key metrics like the count, mean, standard deviation, minimum, and maximum values, along with the 25th, 50th (median), and 75th percentiles. This is useful for quickly understanding the distribution and spread of the data."
   ]
  },
  {
   "cell_type": "markdown",
   "id": "2f015863-997c-4b8a-9b81-28e10679f62a",
   "metadata": {},
   "source": [
    "### Data Insights:\n",
    "- The dataset contains **12 columns** and **891 rows**.\n",
    "- There are **7 numerical columns**:\n",
    "  - **2 columns** with `float64` data type.\n",
    "  - **5 columns** with `int64` data type.\n",
    "- There are **5 categorical (string/object) columns**.\n",
    "- **Survival Rate**: About **38%** of passengers survived the Titanic disaster, as indicated by the mean of the `Survived` column.\n",
    "- **Fare Distribution**: Fares vary significantly, with a few passengers paying much higher fares compared to the majority, suggesting a wide range in ticket prices.\n",
    "- **Age**: The passengers’ ages range from infants to elderly individuals, with an average age of around **30 years**, indicating a relatively young population.\n"
   ]
  },
  {
   "cell_type": "markdown",
   "id": "97a63570-92c3-4c48-b404-e0eac86f14e9",
   "metadata": {
    "jp-MarkdownHeadingCollapsed": true
   },
   "source": [
    "# Missing, Null and Duplicate Values"
   ]
  },
  {
   "cell_type": "markdown",
   "id": "242d5808-dc03-4d72-8977-96e92cdc0ae0",
   "metadata": {
    "jp-MarkdownHeadingCollapsed": true
   },
   "source": [
    "## Missing or Null Values"
   ]
  },
  {
   "cell_type": "code",
   "execution_count": 5,
   "id": "4ecb3d40-0c18-4f5a-bbe5-c9ae4f20d4d4",
   "metadata": {},
   "outputs": [
    {
     "data": {
      "text/plain": [
       "PassengerId      0\n",
       "Survived         0\n",
       "Pclass           0\n",
       "Name             0\n",
       "Sex              0\n",
       "Age            177\n",
       "SibSp            0\n",
       "Parch            0\n",
       "Ticket           0\n",
       "Fare             0\n",
       "Cabin          687\n",
       "Embarked         2\n",
       "dtype: int64"
      ]
     },
     "execution_count": 5,
     "metadata": {},
     "output_type": "execute_result"
    }
   ],
   "source": [
    "df.isnull().sum()"
   ]
  },
  {
   "cell_type": "markdown",
   "id": "5dd06643-d094-4a9b-8f95-b9374446375b",
   "metadata": {},
   "source": [
    "`df.isnull().sum()` returns the total number of missing (null) values in each column of the DataFrame. It helps identify columns with missing data, allowing you to decide on appropriate data imputation or cleaning methods."
   ]
  },
  {
   "cell_type": "markdown",
   "id": "e0dc4841-28fa-4821-9fa7-f33a29c3b559",
   "metadata": {},
   "source": [
    "## Duplicate Values"
   ]
  },
  {
   "cell_type": "code",
   "execution_count": 10,
   "id": "0b7ef223-78c2-4cf3-9c7c-fadfa1df1687",
   "metadata": {},
   "outputs": [
    {
     "data": {
      "text/plain": [
       "np.int64(0)"
      ]
     },
     "execution_count": 10,
     "metadata": {},
     "output_type": "execute_result"
    }
   ],
   "source": [
    "df.duplicated().sum()"
   ]
  },
  {
   "cell_type": "markdown",
   "id": "c29b6fbc-3594-4a3f-99a7-6c17e6832e8e",
   "metadata": {},
   "source": [
    "`df.duplicated().sum()` returns the total number of duplicate rows in the DataFrame. It checks for rows that are identical to a previous row, helping you identify and potentially remove duplicates from the dataset.\n"
   ]
  },
  {
   "cell_type": "markdown",
   "id": "0a657560-6626-4287-b752-16ce308a0c6c",
   "metadata": {},
   "source": [
    "### Data Insights:\n",
    "- **Missing Values**:\n",
    "  - **Age**: 177 missing values\n",
    "  - **Cabin**: 687 missing values\n",
    "  - **Embarked**: 2 missing values\n",
    "  - All other columns have no missing data.\n",
    "\n",
    "\n",
    "- **Duplicate Values**: \n",
    "  - No duplicate rows in the dataset.\n"
   ]
  },
  {
   "cell_type": "markdown",
   "id": "5ce4420e-a0c2-4966-bd0d-1c3c2a769d1b",
   "metadata": {},
   "source": [
    "### `df.nuique()` : Give the unique values of the dataset"
   ]
  },
  {
   "cell_type": "code",
   "execution_count": 13,
   "id": "90ddefac-306b-4258-acc0-9c51210db79a",
   "metadata": {},
   "outputs": [
    {
     "data": {
      "text/plain": [
       "PassengerId    891\n",
       "Survived         2\n",
       "Pclass           3\n",
       "Name           891\n",
       "Sex              2\n",
       "Age             88\n",
       "SibSp            7\n",
       "Parch            7\n",
       "Ticket         681\n",
       "Fare           248\n",
       "Cabin          147\n",
       "Embarked         3\n",
       "dtype: int64"
      ]
     },
     "execution_count": 13,
     "metadata": {},
     "output_type": "execute_result"
    }
   ],
   "source": [
    "df.nunique()"
   ]
  },
  {
   "cell_type": "code",
   "execution_count": null,
   "id": "81d5199c-d3a2-453d-b3e7-10b1cd54a239",
   "metadata": {},
   "outputs": [],
   "source": []
  },
  {
   "cell_type": "markdown",
   "id": "26e0e33a-e9c3-4a22-a1b7-dac89db8a2d6",
   "metadata": {},
   "source": [
    "# Univarient Analysis"
   ]
  },
  {
   "cell_type": "code",
   "execution_count": 29,
   "id": "77195c94-bef1-4d51-9082-8d714fc58d6c",
   "metadata": {},
   "outputs": [
    {
     "data": {
      "text/plain": [
       "Embarked\n",
       "S    644\n",
       "C    168\n",
       "Q     77\n",
       "Name: count, dtype: int64"
      ]
     },
     "execution_count": 29,
     "metadata": {},
     "output_type": "execute_result"
    },
    {
     "data": {
      "image/png": "[encoded data removed]",
      "text/plain": [
       "<Figure size 640x480 with 1 Axes>"
      ]
     },
     "metadata": {},
     "output_type": "display_data"
    }
   ],
   "source": [
    "sns.countplot(x=df['Embarked'])\n",
    "df['Embarked'].value_counts()"
   ]
  },
  {
   "cell_type": "markdown",
   "id": "bd0cafc5-eadc-484e-a968-d094368cab27",
   "metadata": {},
   "source": [
    "Insights: Most passengers departed from S. "
   ]
  },
  {
   "cell_type": "code",
   "execution_count": 38,
   "id": "e1dee97a-db81-47e5-818a-99c85d48e178",
   "metadata": {},
   "outputs": [
    {
     "data": {
      "text/plain": [
       "Survived\n",
       "0    549\n",
       "1    342\n",
       "Name: count, dtype: int64"
      ]
     },
     "execution_count": 38,
     "metadata": {},
     "output_type": "execute_result"
    },
    {
     "data": {
      "image/png": "[encoded data removed]",
      "text/plain": [
       "<Figure size 640x480 with 1 Axes>"
      ]
     },
     "metadata": {},
     "output_type": "display_data"
    }
   ],
   "source": [
    "df['Survived'].value_counts().plot(kind='pie', autopct='%.2f')\n",
    "df['Survived'].value_counts()"
   ]
  },
  {
   "cell_type": "markdown",
   "id": "a7c28ee4-eaa8-473b-8bb2-40705dc44646",
   "metadata": {},
   "source": [
    "Insights:\n",
    " - 549 (61.62%) people didn't survived and 342 (38.98) people survived."
   ]
  },
  {
   "cell_type": "code",
   "execution_count": 43,
   "id": "d91bb095-c3a8-4889-88bc-5f1bc9d6e9ae",
   "metadata": {},
   "outputs": [
    {
     "data": {
      "text/plain": [
       "Pclass\n",
       "3    491\n",
       "1    216\n",
       "2    184\n",
       "Name: count, dtype: int64"
      ]
     },
     "execution_count": 43,
     "metadata": {},
     "output_type": "execute_result"
    },
    {
     "data": {
      "image/png": "[encoded data removed]",
      "text/plain": [
       "<Figure size 640x480 with 1 Axes>"
      ]
     },
     "metadata": {},
     "output_type": "display_data"
    }
   ],
   "source": [
    "df['Pclass'].value_counts().plot(kind='pie', autopct='%.2f')\n",
    "df['Pclass'].value_counts()"
   ]
  },
  {
   "cell_type": "markdown",
   "id": "72e2136e-333a-4b38-bf5b-96c1ddd59ff8",
   "metadata": {},
   "source": [
    "Insights :\n",
    " -  Class 3 : 491 (55.11%) **Most** people travelling.\n",
    " -  Class 2 : 184 (20.65%) **Least** people where travelling.\n",
    " -  Class 1 : 216 (24.24%) people where travelling."
   ]
  },
  {
   "cell_type": "code",
   "execution_count": 45,
   "id": "c4329fa2-d64b-442d-afc8-80130ded53f1",
   "metadata": {},
   "outputs": [
    {
     "data": {
      "text/plain": [
       "Sex\n",
       "male      577\n",
       "female    314\n",
       "Name: count, dtype: int64"
      ]
     },
     "execution_count": 45,
     "metadata": {},
     "output_type": "execute_result"
    },
    {
     "data": {
      "image/png": "[encoded data removed]",
      "text/plain": [
       "<Figure size 640x480 with 1 Axes>"
      ]
     },
     "metadata": {},
     "output_type": "display_data"
    }
   ],
   "source": [
    "sns.countplot(x=df['Sex'])\n",
    "df['Sex'].value_counts()"
   ]
  },
  {
   "cell_type": "markdown",
   "id": "7341229b-57b7-4490-9ec2-5a3f2d2e089e",
   "metadata": {},
   "source": [
    "Insights :\n",
    " - 557 Males where travelling.\n",
    " - 314 Females where travelling."
   ]
  },
  {
   "cell_type": "code",
   "execution_count": 49,
   "id": "ccb56703-e665-487d-b84c-9bf371e85a9b",
   "metadata": {},
   "outputs": [
    {
     "data": {
      "image/png": "[encoded data removed]",
      "text/plain": [
       "<Figure size 640x480 with 1 Axes>"
      ]
     },
     "metadata": {},
     "output_type": "display_data"
    }
   ],
   "source": [
    "import matplotlib.pyplot as plt\n",
    "plt.hist(df['Age'], bins=10, edgecolor='black')\n",
    "plt.title('Age Distribution')\n",
    "plt.xlabel('Age')\n",
    "plt.ylabel('Frequency')\n",
    "plt.show()\n"
   ]
  },
  {
   "cell_type": "markdown",
   "id": "ebd3d98e-8a93-40cb-af9c-a89d69371e83",
   "metadata": {},
   "source": [
    "Data insghits : \n",
    " - Adults where the mostly travelling. "
   ]
  },
  {
   "cell_type": "code",
   "execution_count": 58,
   "id": "fa9a3efb-37fa-4f48-9dbd-6c1ed26ba154",
   "metadata": {},
   "outputs": [
    {
     "data": {
      "text/plain": [
       "<Axes: ylabel='Fare'>"
      ]
     },
     "execution_count": 58,
     "metadata": {},
     "output_type": "execute_result"
    },
    {
     "data": {
      "image/png": "[encoded data removed]",
      "text/plain": [
       "<Figure size 640x480 with 1 Axes>"
      ]
     },
     "metadata": {},
     "output_type": "display_data"
    }
   ],
   "source": [
    "sns.boxplot(df['Fare'])"
   ]
  },
  {
   "cell_type": "markdown",
   "id": "9d6b82dd-f922-44fd-8618-fda696ff7029",
   "metadata": {},
   "source": [
    "Insights:\n",
    " - The boxplot shows that most passengers paid lower fares, with several outliers paying much higher fares. The distribution is right-skewed.\n"
   ]
  },
  {
   "cell_type": "markdown",
   "id": "a2d98c66-10e4-48de-a595-143a6d383b38",
   "metadata": {},
   "source": [
    "`sns.boxplot()` is a visualization tool used to identify outliers in a dataset by showing the distribution of data, including the interquartile range (IQR). Outliers are typically defined as values that lie outside the range of 1.5 times the IQR above the upper quartile (Q3) or below the lower quartile (Q1)"
   ]
  },
  {
   "cell_type": "code",
   "execution_count": 57,
   "id": "e0fc626d-266b-45f4-8413-7c46f9e2b3df",
   "metadata": {},
   "outputs": [
    {
     "data": {
      "image/png": "[encoded data removed]",
      "text/plain": [
       "<Figure size 640x480 with 1 Axes>"
      ]
     },
     "metadata": {},
     "output_type": "display_data"
    }
   ],
   "source": [
    "import seaborn as sns\n",
    "import matplotlib.pyplot as plt\n",
    "df['Fare'] = df['Fare'].dropna()  #Drop the null values.\n",
    "\n",
    "# KDE plot to visually inspect the distribution of 'Age'\n",
    "sns.kdeplot(df['Fare'], fill=True)\n",
    "plt.title('Fare Distribution (KDE)')\n",
    "plt.xlabel('Fare')\n",
    "plt.ylabel('Density')\n",
    "plt.show()"
   ]
  },
  {
   "cell_type": "markdown",
   "id": "8fc5a0af-d5b0-45a3-b40e-c984eaa0e2aa",
   "metadata": {},
   "source": [
    "Insights\n",
    "- The KDE plot shows that most Titanic passengers paid low fares, with a few paying significantly higher fares. The distribution is right-skewed, indicating a concentration of low fares and a long tail for higher fares.\n"
   ]
  },
  {
   "cell_type": "markdown",
   "id": "aba357de-21ec-4754-8102-6b51b625eeb7",
   "metadata": {},
   "source": [
    "# Understanding KDE (Kernel Density Estimate) Plot\n",
    "\n",
    "The **Kernel Density Estimate (KDE)** plot is a way to visualize the distribution of data in a smooth, continuous curve. It provides a **probability density function** (PDF) that helps you understand the underlying distribution of your data.\n",
    "\n",
    "### What the KDE plot tells you:\n",
    "\n",
    "1. **Shape of the Distribution**:\n",
    "   - **Symmetry vs Skewness**: If the KDE curve is symmetrical, it suggests that your data is balanced on both sides. If it's skewed to the left or right, it indicates the data's asymmetry.\n",
    "     - **Positive skew**: The curve has a tail on the right (longer right tail).\n",
    "     - **Negative skew**: The curve has a tail on the left (longer left tail).\n",
    "     - **Symmetric**: The curve is balanced on both sides, like a bell curve (normal distribution).\n",
    "\n",
    "2. **Peaks (Modes)**:\n",
    "   - The **peaks** in the KDE plot represent the most frequent values or clusters in your data (known as **modes**).\n",
    "     - A **single peak** (unimodal) suggests a **single dominant value range**.\n",
    "     - Multiple peaks (multimodal) suggest that your data may come from **multiple different distributions** or groups.\n",
    "\n",
    "3. **Spread (Variance)**:\n",
    "   - The **width** of the curve gives you an idea of how spread out the data is.\n",
    "     - A **narrow** curve suggests that most values are clustered near the center, indicating low variance.\n",
    "     - A **wide** curve indicates that the data is spread out, suggesting high variance.\n",
    "\n",
    "4. **Outliers**:\n",
    "   - The **tails** of the KDE curve indicate areas where outliers may be present.\n",
    "   - If the tail is long in one direction, it may suggest that the data has extreme values or outliers in that direction.\n",
    "\n",
    "5. **Density**:\n",
    "   - The **height** of the curve indicates the **density** (frequency) of data points at a given value. Higher areas represent where data points are concentrated.\n",
    "\n",
    "### Example:\n",
    "\n",
    "Imagine a dataset representing people's ages:\n",
    "\n",
    "- **Symmetric Distribution**: A symmetric KDE plot with a single peak suggests that most ages are clustered around a certain value (e.g., 30 years), with roughly equal numbers of people below and above that value.\n",
    "- **Positively Skewed Distribution**: A right-skewed KDE curve with a long tail on the right might indicate that most people are younger, but there are some much older people in the data.\n",
    "- **Negatively Skewed Distribution**: A left-skewed KDE curve with a long tail on the left could suggest that most people are older, but there are some much younger people in the data.\n",
    "\n",
    "### Example KDE Plot Interpretation:\n",
    "\n",
    "Let's say you have a dataset of ages:\n",
    "\n",
    "- **If the KDE plot is normal** (bell-shaped), your data is roughly symmetrically distributed around a central value.\n",
    "- **If the KDE plot has a long tail on the right** (positively skewed), it suggests that there are a few very large values (perhaps older ages).\n",
    "- **If the KDE plot has a long tail on the left** (negatively skewed), it suggests that there are a few very small values (perhaps younger ages).\n"
   ]
  },
  {
   "cell_type": "code",
   "execution_count": null,
   "id": "76866186-c389-4e48-9254-47668b5474bf",
   "metadata": {},
   "outputs": [],
   "source": []
  }
 ],
 "metadata": {
  "kernelspec": {
   "display_name": "my_learning_venv",
   "language": "python",
   "name": "my_learning_venv"
  },
  "language_info": {
   "codemirror_mode": {
    "name": "ipython",
    "version": 3
   },
   "file_extension": ".py",
   "mimetype": "text/x-python",
   "name": "python",
   "nbconvert_exporter": "python",
   "pygments_lexer": "ipython3",
   "version": "3.13.7"
  }
 },
 "nbformat": 4,
 "nbformat_minor": 5
}
