{
 "cells": [
  {
   "cell_type": "markdown",
   "id": "5e316bf7-3e57-40be-9d1f-a75c9bd9ee3c",
   "metadata": {},
   "source": [
    "# Standard Scaling (Standardization)\n",
    "\n",
    "Standard scaling, or **Standardization**, is a technique used to transform data so that it has a mean of 0 and a standard deviation of 1. This is achieved by subtracting the mean of each feature from the data and then dividing the result by the feature's standard deviation. The formula for standard scaling is:\n",
    "\n",
    "**z = (X − μ) / σ**\n",
    "\n",
    "Where:  \n",
    "- **X** = the original data point  \n",
    "- **μ** = the mean of the data  \n",
    "- **σ** = the standard deviation  \n",
    "\n",
    "Standard scaling is commonly used in machine learning to ensure that all features contribute equally to the model, preventing features with larger scales from dominating the model’s performance. It is especially important for algorithms like k-nearest neighbors (KNN), support vector machines (SVM), and gradient descent-based methods.\n"
   ]
  },
  {
   "cell_type": "markdown",
   "id": "24622fa4-72ec-41fd-9bf5-091c9c78ce6b",
   "metadata": {},
   "source": [
    "### Libraries"
   ]
  },
  {
   "cell_type": "code",
   "execution_count": 2,
   "id": "2651a127-1f00-4efc-b445-4e3496b913c9",
   "metadata": {},
   "outputs": [],
   "source": [
    "import pandas as pd\n",
    "import matplotlib.pyplot as plt\n",
    "import seaborn as sns\n",
    "from sklearn.model_selection import train_test_split\n",
    "from sklearn.preprocessing import StandardScaler\n",
    "from sklearn.preprocessing import MinMaxScaler\n",
    "from sklearn.linear_model import LogisticRegression\n",
    "from sklearn.metrics import accuracy_score"
   ]
  },
  {
   "cell_type": "markdown",
   "id": "baae09eb-f18d-4dba-9596-1d39823fccd3",
   "metadata": {},
   "source": [
    "## DataFrame"
   ]
  },
  {
   "cell_type": "code",
   "execution_count": 3,
   "id": "f38dc67e-fa3f-473a-a2ee-562913e6089f",
   "metadata": {},
   "outputs": [
    {
     "data": {
      "text/html": [
       "<div>\n",
       "<style scoped>\n",
       "    .dataframe tbody tr th:only-of-type {\n",
       "        vertical-align: middle;\n",
       "    }\n",
       "\n",
       "    .dataframe tbody tr th {\n",
       "        vertical-align: top;\n",
       "    }\n",
       "\n",
       "    .dataframe thead th {\n",
       "        text-align: right;\n",
       "    }\n",
       "</style>\n",
       "<table border=\"1\" class=\"dataframe\">\n",
       "  <thead>\n",
       "    <tr style=\"text-align: right;\">\n",
       "      <th></th>\n",
       "      <th>Age</th>\n",
       "      <th>Survived</th>\n",
       "      <th>Fare</th>\n",
       "    </tr>\n",
       "  </thead>\n",
       "  <tbody>\n",
       "    <tr>\n",
       "      <th>164</th>\n",
       "      <td>1.0</td>\n",
       "      <td>0</td>\n",
       "      <td>39.6875</td>\n",
       "    </tr>\n",
       "    <tr>\n",
       "      <th>190</th>\n",
       "      <td>32.0</td>\n",
       "      <td>1</td>\n",
       "      <td>13.0000</td>\n",
       "    </tr>\n",
       "    <tr>\n",
       "      <th>842</th>\n",
       "      <td>30.0</td>\n",
       "      <td>1</td>\n",
       "      <td>31.0000</td>\n",
       "    </tr>\n",
       "    <tr>\n",
       "      <th>616</th>\n",
       "      <td>34.0</td>\n",
       "      <td>0</td>\n",
       "      <td>14.4000</td>\n",
       "    </tr>\n",
       "    <tr>\n",
       "      <th>416</th>\n",
       "      <td>34.0</td>\n",
       "      <td>1</td>\n",
       "      <td>32.5000</td>\n",
       "    </tr>\n",
       "  </tbody>\n",
       "</table>\n",
       "</div>"
      ],
      "text/plain": [
       "      Age  Survived     Fare\n",
       "164   1.0         0  39.6875\n",
       "190  32.0         1  13.0000\n",
       "842  30.0         1  31.0000\n",
       "616  34.0         0  14.4000\n",
       "416  34.0         1  32.5000"
      ]
     },
     "execution_count": 3,
     "metadata": {},
     "output_type": "execute_result"
    }
   ],
   "source": [
    "df=pd.read_csv('../EDA/Titanic-Dataset.csv')\n",
    "df=df[['Age', 'Survived', 'Fare']]\n",
    "df=df.dropna()\n",
    "df.sample(5)"
   ]
  },
  {
   "cell_type": "markdown",
   "id": "d729cc7a-83a9-41a5-a256-17d984d4c507",
   "metadata": {},
   "source": [
    "### Data info"
   ]
  },
  {
   "cell_type": "code",
   "execution_count": 3,
   "id": "2cc13749-02ad-431f-9465-72b94905b39a",
   "metadata": {},
   "outputs": [
    {
     "name": "stdout",
     "output_type": "stream",
     "text": [
      "<class 'pandas.core.frame.DataFrame'>\n",
      "Index: 714 entries, 0 to 890\n",
      "Data columns (total 3 columns):\n",
      " #   Column    Non-Null Count  Dtype  \n",
      "---  ------    --------------  -----  \n",
      " 0   Age       714 non-null    float64\n",
      " 1   Survived  714 non-null    int64  \n",
      " 2   Fare      714 non-null    float64\n",
      "dtypes: float64(2), int64(1)\n",
      "memory usage: 22.3 KB\n"
     ]
    }
   ],
   "source": [
    "df.info()"
   ]
  },
  {
   "cell_type": "code",
   "execution_count": 4,
   "id": "8c0ddb8a-a8e7-44dd-a13a-8f9e349e6c59",
   "metadata": {},
   "outputs": [
    {
     "data": {
      "text/html": [
       "<div>\n",
       "<style scoped>\n",
       "    .dataframe tbody tr th:only-of-type {\n",
       "        vertical-align: middle;\n",
       "    }\n",
       "\n",
       "    .dataframe tbody tr th {\n",
       "        vertical-align: top;\n",
       "    }\n",
       "\n",
       "    .dataframe thead th {\n",
       "        text-align: right;\n",
       "    }\n",
       "</style>\n",
       "<table border=\"1\" class=\"dataframe\">\n",
       "  <thead>\n",
       "    <tr style=\"text-align: right;\">\n",
       "      <th></th>\n",
       "      <th>Age</th>\n",
       "      <th>Survived</th>\n",
       "      <th>Fare</th>\n",
       "    </tr>\n",
       "  </thead>\n",
       "  <tbody>\n",
       "    <tr>\n",
       "      <th>count</th>\n",
       "      <td>714.000000</td>\n",
       "      <td>714.000000</td>\n",
       "      <td>714.000000</td>\n",
       "    </tr>\n",
       "    <tr>\n",
       "      <th>mean</th>\n",
       "      <td>29.699118</td>\n",
       "      <td>0.406162</td>\n",
       "      <td>34.694514</td>\n",
       "    </tr>\n",
       "    <tr>\n",
       "      <th>std</th>\n",
       "      <td>14.526497</td>\n",
       "      <td>0.491460</td>\n",
       "      <td>52.918930</td>\n",
       "    </tr>\n",
       "    <tr>\n",
       "      <th>min</th>\n",
       "      <td>0.420000</td>\n",
       "      <td>0.000000</td>\n",
       "      <td>0.000000</td>\n",
       "    </tr>\n",
       "    <tr>\n",
       "      <th>25%</th>\n",
       "      <td>20.125000</td>\n",
       "      <td>0.000000</td>\n",
       "      <td>8.050000</td>\n",
       "    </tr>\n",
       "    <tr>\n",
       "      <th>50%</th>\n",
       "      <td>28.000000</td>\n",
       "      <td>0.000000</td>\n",
       "      <td>15.741700</td>\n",
       "    </tr>\n",
       "    <tr>\n",
       "      <th>75%</th>\n",
       "      <td>38.000000</td>\n",
       "      <td>1.000000</td>\n",
       "      <td>33.375000</td>\n",
       "    </tr>\n",
       "    <tr>\n",
       "      <th>max</th>\n",
       "      <td>80.000000</td>\n",
       "      <td>1.000000</td>\n",
       "      <td>512.329200</td>\n",
       "    </tr>\n",
       "  </tbody>\n",
       "</table>\n",
       "</div>"
      ],
      "text/plain": [
       "              Age    Survived        Fare\n",
       "count  714.000000  714.000000  714.000000\n",
       "mean    29.699118    0.406162   34.694514\n",
       "std     14.526497    0.491460   52.918930\n",
       "min      0.420000    0.000000    0.000000\n",
       "25%     20.125000    0.000000    8.050000\n",
       "50%     28.000000    0.000000   15.741700\n",
       "75%     38.000000    1.000000   33.375000\n",
       "max     80.000000    1.000000  512.329200"
      ]
     },
     "execution_count": 4,
     "metadata": {},
     "output_type": "execute_result"
    }
   ],
   "source": [
    "df.describe()"
   ]
  },
  {
   "cell_type": "markdown",
   "id": "d48841f6-1744-428f-8115-bad1b684ff66",
   "metadata": {},
   "source": [
    "# Split of data"
   ]
  },
  {
   "cell_type": "markdown",
   "id": "32b86d52-ba3f-4d40-91d1-7e30a8521cc6",
   "metadata": {},
   "source": [
    "Spliting the data into train, test, before scaling"
   ]
  },
  {
   "cell_type": "code",
   "execution_count": 5,
   "id": "4e9e5150-6d74-4925-827d-82232e7aa82b",
   "metadata": {},
   "outputs": [
    {
     "data": {
      "text/plain": [
       "((571, 2), (143, 2), (571,), (143,))"
      ]
     },
     "execution_count": 5,
     "metadata": {},
     "output_type": "execute_result"
    }
   ],
   "source": [
    "X=df[['Age', 'Fare']]\n",
    "y=df['Survived']\n",
    "X_train, X_test, Y_train, Y_test=train_test_split(X,y, random_state=42, test_size=0.2)\n",
    "X_train.shape, X_test.shape, Y_train.shape, Y_test.shape"
   ]
  },
  {
   "cell_type": "markdown",
   "id": "44da9f6d-ea7e-412f-8bdb-6dd4da979fee",
   "metadata": {},
   "source": [
    "# Standard Scaler"
   ]
  },
  {
   "cell_type": "code",
   "execution_count": 6,
   "id": "66b5503e-8aed-49a3-b7e0-93b8705d268b",
   "metadata": {},
   "outputs": [],
   "source": [
    "scaler =StandardScaler() #object instance"
   ]
  },
  {
   "cell_type": "code",
   "execution_count": 7,
   "id": "537c4caa-db19-4be1-be02-d89bae0ad6f8",
   "metadata": {},
   "outputs": [
    {
     "data": {
      "text/plain": [
       "((571, 2), (143, 2))"
      ]
     },
     "execution_count": 7,
     "metadata": {},
     "output_type": "execute_result"
    }
   ],
   "source": [
    "# Fit the scaler on the training data\n",
    "scaler.fit(X_train)\n",
    "\n",
    "# Transform both the training and test data using the learned scaler\n",
    "X_train_scaled = scaler.transform(X_train)\n",
    "X_test_scaled = scaler.transform(X_test)\n",
    "X_train_scaled.shape, X_test_scaled.shape"
   ]
  },
  {
   "cell_type": "code",
   "execution_count": 8,
   "id": "52a347cc-36f9-4813-883b-df50d358a58a",
   "metadata": {},
   "outputs": [
    {
     "data": {
      "text/plain": [
       "(array([30.0169352 , 35.07856042]),)"
      ]
     },
     "execution_count": 8,
     "metadata": {},
     "output_type": "execute_result"
    }
   ],
   "source": [
    "scaler.mean_ ,  "
   ]
  },
  {
   "cell_type": "markdown",
   "id": "610d8ed0-bf01-4e5e-ae9d-928681c77b9f",
   "metadata": {},
   "source": [
    "### Converting the Scalled value in DataFrame"
   ]
  },
  {
   "cell_type": "code",
   "execution_count": 9,
   "id": "2b251b25-7898-4847-b073-78f18934c805",
   "metadata": {},
   "outputs": [],
   "source": [
    "X_train_scaled = pd.DataFrame(X_train_scaled, columns=X_train.columns)\n",
    "X_test_scaled = pd.DataFrame(X_test_scaled, columns=X_test.columns)\n"
   ]
  },
  {
   "cell_type": "markdown",
   "id": "30f8ad6a-2f05-414b-91c7-54d280eadf0c",
   "metadata": {},
   "source": [
    "# Comparing the Graph"
   ]
  },
  {
   "cell_type": "markdown",
   "id": "cf769959-14df-4b84-ad9d-234fd95ce4ca",
   "metadata": {},
   "source": [
    "## Scatter Plot"
   ]
  },
  {
   "cell_type": "code",
   "execution_count": 10,
   "id": "d4958bcf-1b65-4b24-9fd6-79707558710a",
   "metadata": {},
   "outputs": [
    {
     "data": {
      "image/png": "[encoded data removed]",
      "text/plain": [
       "<Figure size 1200x500 with 2 Axes>"
      ]
     },
     "metadata": {},
     "output_type": "display_data"
    }
   ],
   "source": [
    "fig, (ax1, ax2) = plt.subplots(ncols=2, figsize=(12, 5))\n",
    "\n",
    "# Before scaling\n",
    "ax1.scatter(X_train['Age'], X_train['Fare'])\n",
    "ax1.set_title('Before Scaling')\n",
    "\n",
    "# After scaling\n",
    "ax2.scatter(X_train_scaled['Age'], X_train_scaled['Fare'])\n",
    "ax2.set_title('After Scaling')\n",
    "\n",
    "plt.show()"
   ]
  },
  {
   "cell_type": "code",
   "execution_count": 11,
   "id": "6bc5a2dd-05a7-4e32-b19a-f05ebe2168d0",
   "metadata": {},
   "outputs": [
    {
     "data": {
      "text/html": [
       "<div>\n",
       "<style scoped>\n",
       "    .dataframe tbody tr th:only-of-type {\n",
       "        vertical-align: middle;\n",
       "    }\n",
       "\n",
       "    .dataframe tbody tr th {\n",
       "        vertical-align: top;\n",
       "    }\n",
       "\n",
       "    .dataframe thead th {\n",
       "        text-align: right;\n",
       "    }\n",
       "</style>\n",
       "<table border=\"1\" class=\"dataframe\">\n",
       "  <thead>\n",
       "    <tr style=\"text-align: right;\">\n",
       "      <th></th>\n",
       "      <th>Age</th>\n",
       "      <th>Fare</th>\n",
       "    </tr>\n",
       "  </thead>\n",
       "  <tbody>\n",
       "    <tr>\n",
       "      <th>count</th>\n",
       "      <td>5.710000e+02</td>\n",
       "      <td>5.710000e+02</td>\n",
       "    </tr>\n",
       "    <tr>\n",
       "      <th>mean</th>\n",
       "      <td>2.364328e-16</td>\n",
       "      <td>4.977532e-17</td>\n",
       "    </tr>\n",
       "    <tr>\n",
       "      <th>std</th>\n",
       "      <td>1.000877e+00</td>\n",
       "      <td>1.000877e+00</td>\n",
       "    </tr>\n",
       "    <tr>\n",
       "      <th>min</th>\n",
       "      <td>-2.011210e+00</td>\n",
       "      <td>-7.081945e-01</td>\n",
       "    </tr>\n",
       "    <tr>\n",
       "      <th>25%</th>\n",
       "      <td>-6.127307e-01</td>\n",
       "      <td>-5.456746e-01</td>\n",
       "    </tr>\n",
       "    <tr>\n",
       "      <th>50%</th>\n",
       "      <td>-1.030808e-01</td>\n",
       "      <td>-3.902207e-01</td>\n",
       "    </tr>\n",
       "    <tr>\n",
       "      <th>75%</th>\n",
       "      <td>6.104291e-01</td>\n",
       "      <td>-1.420405e-02</td>\n",
       "    </tr>\n",
       "    <tr>\n",
       "      <th>max</th>\n",
       "      <td>3.396515e+00</td>\n",
       "      <td>9.635125e+00</td>\n",
       "    </tr>\n",
       "  </tbody>\n",
       "</table>\n",
       "</div>"
      ],
      "text/plain": [
       "                Age          Fare\n",
       "count  5.710000e+02  5.710000e+02\n",
       "mean   2.364328e-16  4.977532e-17\n",
       "std    1.000877e+00  1.000877e+00\n",
       "min   -2.011210e+00 -7.081945e-01\n",
       "25%   -6.127307e-01 -5.456746e-01\n",
       "50%   -1.030808e-01 -3.902207e-01\n",
       "75%    6.104291e-01 -1.420405e-02\n",
       "max    3.396515e+00  9.635125e+00"
      ]
     },
     "execution_count": 11,
     "metadata": {},
     "output_type": "execute_result"
    }
   ],
   "source": [
    "X_train_scaled.describe()"
   ]
  },
  {
   "cell_type": "markdown",
   "id": "38a3595e-1f93-4a55-9921-7d1c2ff85e7c",
   "metadata": {},
   "source": [
    "## KDE Plot"
   ]
  },
  {
   "cell_type": "code",
   "execution_count": 12,
   "id": "0e08ee82-0323-4fd0-8c82-b8128c628332",
   "metadata": {},
   "outputs": [
    {
     "data": {
      "text/plain": [
       "<Axes: title={'center': 'After Scaling'}, xlabel='Age', ylabel='Density'>"
      ]
     },
     "execution_count": 12,
     "metadata": {},
     "output_type": "execute_result"
    },
    {
     "data": {
      "image/png": "[encoded data removed]",
      "text/plain": [
       "<Figure size 1200x500 with 2 Axes>"
      ]
     },
     "metadata": {},
     "output_type": "display_data"
    }
   ],
   "source": [
    "fig, (ax1, ax2) = plt.subplots(ncols=2, figsize=(12,5))\n",
    "#before Scalling\n",
    "ax1.set_title('Before Scaling')\n",
    "sns.kdeplot(X_train['Age'], ax=ax1)\n",
    "sns.kdeplot(X_train['Fare'], ax=ax1)\n",
    "\n",
    "#After Scaling\n",
    "ax2.set_title('After Scaling')\n",
    "sns.kdeplot(X_train_scaled['Age'], ax=ax2)\n",
    "sns.kdeplot(X_train_scaled['Fare'], ax=ax2)\n"
   ]
  },
  {
   "cell_type": "code",
   "execution_count": 13,
   "id": "e3ae9c96-9b7d-440f-95ec-f4c780fea723",
   "metadata": {},
   "outputs": [],
   "source": [
    "# Step 1: Import the scaler\n",
    "from sklearn.preprocessing import MinMaxScaler\n",
    "\n",
    "# Step 2: Create the scaler (default range is 0 to 1)\n",
    "scaler = MinMaxScaler()\n",
    "\n",
    "# Step 3: Fit the scaler to your data and transform it\n",
    "scaled_data = scaler.fit_transform(X_train)\n",
    "\n",
    "# If you have training and test sets, use fit on train and transform on both:\n",
    "scaler.fit(X_train)\n",
    "X_train_scaled = scaler.transform(X_train)\n",
    "X_test_scaled = scaler.transform(X_test)\n"
   ]
  },
  {
   "cell_type": "markdown",
   "id": "10c38546-70b0-4cb7-94aa-ee6b9943437c",
   "metadata": {},
   "source": [
    "# Model Training"
   ]
  },
  {
   "cell_type": "code",
   "execution_count": 14,
   "id": "792ea116-b3ce-447c-9ba9-52c381d515a4",
   "metadata": {},
   "outputs": [
    {
     "name": "stdout",
     "output_type": "stream",
     "text": [
      "Accuracy Sore: 0.6293706293706294\n",
      "Accuracy Sore: 0.6573426573426573\n"
     ]
    }
   ],
   "source": [
    "lr= LogisticRegression() \n",
    "lr.fit(X_train, Y_train)\n",
    "y_pred=lr.predict(X_test)\n",
    "print(f'Accuracy Sore: {accuracy_score(y_pred, Y_test)}')\n",
    "\n",
    "lr_scaled= LogisticRegression()\n",
    "lr_scaled.fit(X_train_scaled, Y_train)\n",
    "y_scaled_pred=lr_scaled.predict(X_test_scaled)\n",
    "print(f'Accuracy Sore: {accuracy_score(y_scaled_pred, Y_test)}')"
   ]
  },
  {
   "cell_type": "markdown",
   "id": "ed254215-19c5-42e0-8945-daa690146b57",
   "metadata": {},
   "source": [
    "Here we have improvemnt in the accuracy when we scaled the value."
   ]
  },
  {
   "cell_type": "markdown",
   "id": "ac9b8cf3-9d6a-4090-88f3-9f5e6320ddfa",
   "metadata": {},
   "source": [
    "# Min Max Scalling "
   ]
  },
  {
   "cell_type": "markdown",
   "id": "20c87315-e233-49f2-89c4-3d73d1da4f69",
   "metadata": {},
   "source": [
    "### Min-Max Scaling\n",
    "\n",
    "Min-max scaling (or normalization) is a technique used to rescale data into a specific range, typically `[0, 1]`.  \n",
    "It is performed by subtracting the minimum value of the dataset from each data point and then dividing the result by the range of the dataset (i.e., the difference between the maximum and minimum values).\n",
    "\n",
    "#### Formula:\n",
    "\n",
    "$$\n",
    "X_{\\text{scaled}} = \\frac{X - \\min(X)}{\\max(X) - \\min(X)}\n",
    "$$\n",
    "\n",
    "**Where:**\n",
    "\n",
    "- $X$ → original value  \n",
    "- $\\min(X)$ → minimum value in the dataset  \n",
    "- $\\max(X)$ → maximum value in the dataset  \n",
    "- $X_{\\text{scaled}}$ → scaled value between 0 and 1  \n",
    "\n",
    "\n",
    "This transformation ensures:\n",
    "- The smallest value becomes **0**  \n",
    "- The largest value becomes **1**  \n",
    "- All other values are proportionally scaled between 0 and 1.\n",
    "\n",
    "#### Use Cases:\n",
    "Min-max scaling is commonly used in machine learning algorithms that are sensitive to data scale, such as:\n",
    "- **Neural Networks**\n",
    "- **K-Nearest Neighbors (KNN)**\n",
    "- **Support Vector Machines (SVM)**\n"
   ]
  },
  {
   "cell_type": "code",
   "execution_count": 15,
   "id": "81708e9a-6735-4453-9331-26b30972778d",
   "metadata": {},
   "outputs": [],
   "source": [
    "min_max_scaled = MinMaxScaler()     #object instance"
   ]
  },
  {
   "cell_type": "code",
   "execution_count": 16,
   "id": "d33a5e22-a506-49b8-80b2-5f5e977fbc63",
   "metadata": {},
   "outputs": [],
   "source": [
    "# Fit the scaler to the training data\n",
    "min_max_scaled = MinMaxScaler()\n",
    "min_max_scaled.fit(X_train)\n",
    "\n",
    "# Transform both the training and test data\n",
    "min_max_train = min_max_scaled.transform(X_train)\n",
    "min_max_test = min_max_scaled.transform(X_test)\n"
   ]
  },
  {
   "cell_type": "code",
   "execution_count": 17,
   "id": "60dbd3f6-bb1e-4b3d-a8c3-e845e05fffae",
   "metadata": {},
   "outputs": [],
   "source": [
    "#Convert the data into DataFrame\n",
    "min_max_train=pd.DataFrame(min_max_train, columns=X_train.columns)\n",
    "min_max_test=pd.DataFrame(min_max_test, columns=X_train.columns)"
   ]
  },
  {
   "cell_type": "markdown",
   "id": "9ccc0941-d464-4607-9a0e-b7f88bf8e181",
   "metadata": {},
   "source": [
    "# Graph Compression"
   ]
  },
  {
   "cell_type": "code",
   "execution_count": 18,
   "id": "8f144c23-a59c-40f4-9c53-0875548f2cde",
   "metadata": {},
   "outputs": [
    {
     "data": {
      "image/png": "[encoded data removed]",
      "text/plain": [
       "<Figure size 1200x500 with 2 Axes>"
      ]
     },
     "metadata": {},
     "output_type": "display_data"
    }
   ],
   "source": [
    "fig, (ax1, ax2) = plt.subplots(ncols=2, figsize=(12, 5))\n",
    "\n",
    "# Before scaling\n",
    "ax1.scatter(X_train['Age'], X_train['Fare'])\n",
    "ax1.set_title('Before Scaling')\n",
    "\n",
    "# After scaling\n",
    "ax2.scatter(min_max_train['Age'], min_max_train['Fare'])\n",
    "ax2.set_title('After Scaling')\n",
    "\n",
    "plt.show()"
   ]
  },
  {
   "cell_type": "markdown",
   "id": "40a3f969-3df6-47b2-8378-b16a2d3815bc",
   "metadata": {},
   "source": [
    "# Model Training"
   ]
  },
  {
   "cell_type": "code",
   "execution_count": 19,
   "id": "01ff51ca-d992-493c-a072-c052d286f91c",
   "metadata": {},
   "outputs": [
    {
     "name": "stdout",
     "output_type": "stream",
     "text": [
      "Accuracy Sore Without Scale: 0.6293706293706294\n",
      "Accuracy Score With Scale: 0.6573426573426573\n"
     ]
    }
   ],
   "source": [
    "print(f'Accuracy Sore Without Scale: {accuracy_score(y_pred, Y_test)}')\n",
    "\n",
    "lr_scaled_min_max = LogisticRegression()\n",
    "lr_scaled_min_max.fit(min_max_train, Y_train)  # Fit with scaled training data\n",
    "y_scaled_pred_min_max = lr_scaled_min_max.predict(min_max_test)  # Predict with scaled test data\n",
    "print(f'Accuracy Score With Scale: {accuracy_score(y_scaled_pred_min_max, Y_test)}')"
   ]
  }
 ],
 "metadata": {
  "kernelspec": {
   "display_name": "my_learning_venv",
   "language": "python",
   "name": "my_learning_venv"
  },
  "language_info": {
   "codemirror_mode": {
    "name": "ipython",
    "version": 3
   },
   "file_extension": ".py",
   "mimetype": "text/x-python",
   "name": "python",
   "nbconvert_exporter": "python",
   "pygments_lexer": "ipython3",
   "version": "3.13.7"
  }
 },
 "nbformat": 4,
 "nbformat_minor": 5
}
